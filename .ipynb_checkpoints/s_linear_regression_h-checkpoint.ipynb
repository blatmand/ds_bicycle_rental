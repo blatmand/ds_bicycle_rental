{
 "cells": [
  {
   "cell_type": "markdown",
   "metadata": {},
   "source": [
    "# Do the feature engineering according to the selection done in the exploratory data analysis and run a linear regression"
   ]
  },
  {
   "cell_type": "code",
   "execution_count": 1,
   "metadata": {},
   "outputs": [],
   "source": [
    "import pandas as pd\n",
    "\n",
    "from sklearn.linear_model import LinearRegression\n",
    "from sklearn.model_selection import train_test_split\n",
    "from sklearn.preprocessing import PolynomialFeatures\n",
    "\n",
    "import statsmodels.api as sm\n",
    "\n",
    "import seaborn as sns\n",
    "\n",
    "import scipy.stats as stats\n",
    "\n",
    "from matplotlib import pyplot as plt\n",
    "\n",
    "import numpy as np"
   ]
  },
  {
   "cell_type": "code",
   "execution_count": 2,
   "metadata": {},
   "outputs": [
    {
     "data": {
      "text/plain": [
       "count    17379.000000\n",
       "mean        35.676218\n",
       "std         49.305030\n",
       "min          0.000000\n",
       "25%          4.000000\n",
       "50%         17.000000\n",
       "75%         48.000000\n",
       "max        367.000000\n",
       "Name: casual, dtype: float64"
      ]
     },
     "execution_count": 2,
     "metadata": {},
     "output_type": "execute_result"
    }
   ],
   "source": [
    "df = pd.read_csv('hour.csv', index_col=0)\n",
    "df.head()\n",
    "df.casual.describe()"
   ]
  },
  {
   "cell_type": "code",
   "execution_count": 3,
   "metadata": {},
   "outputs": [
    {
     "data": {
      "text/plain": [
       "instant\n",
       "1   2011-01-01\n",
       "2   2011-01-01\n",
       "3   2011-01-01\n",
       "4   2011-01-01\n",
       "5   2011-01-01\n",
       "Name: dteday, dtype: datetime64[ns]"
      ]
     },
     "execution_count": 3,
     "metadata": {},
     "output_type": "execute_result"
    }
   ],
   "source": [
    "df['dteday'] = pd.to_datetime(df['dteday'])\n",
    "df['dteday'].head()"
   ]
  },
  {
   "cell_type": "markdown",
   "metadata": {},
   "source": [
    "#### Feature Engineering Function:"
   ]
  },
  {
   "cell_type": "code",
   "execution_count": 4,
   "metadata": {},
   "outputs": [],
   "source": [
    "#weather = {1: 'nice_weather', 2: 'so_so_weather', 3: 'shit_weather'}\n",
    "#weather_dummies = pd.get_dummies(df['weathersit'])\n",
    "#weather_dummies = weather_dummies.drop(weather_dummies.columns[0], axis=1)\n",
    "#weather_dummies.rename(mapper=weather, axis=1, inplace=True)\n",
    "#x = pd.concat([x, weather_dummies], axis=1)\n",
    "#x = x.drop('weathersit', axis=1)\n",
    "\n",
    "#weather_dummies.head()"
   ]
  },
  {
   "cell_type": "code",
   "execution_count": 5,
   "metadata": {},
   "outputs": [],
   "source": [
    "#df.loc[:, 'atemp2'] = pd.Series(np.array(df['atemp'])**2)\n",
    "#df.atemp2"
   ]
  },
  {
   "cell_type": "code",
   "execution_count": 6,
   "metadata": {},
   "outputs": [],
   "source": [
    "def feature_engineer(x):\n",
    "    x = x[['yr',\n",
    "           'mnth',\n",
    "           'hr',\n",
    "           'holiday',\n",
    "           'weekday',\n",
    "           'workingday',\n",
    "           'weathersit',\n",
    "           #'temp',\n",
    "           'atemp',\n",
    "           'hum', #is highly insignificant\n",
    "           'windspeed'\n",
    "           ]]\n",
    "    \n",
    "    if 'mnth' in x:\n",
    "        # create dummies for months; Feb is not significantly different from 0 and is therefore excluded\n",
    "        months = {2: 'Feb',3: 'March',4: 'Apr',5: 'May',6: 'Jun',7: 'Jul',8: 'Aug',9: 'Sept',10: 'Oct',11: 'Nov',12: 'Dec'}\n",
    "        mnth_dummies = pd.get_dummies(x['mnth'])\n",
    "        mnth_dummies = mnth_dummies.drop(mnth_dummies.columns[0:2], axis=1)\n",
    "        mnth_dummies.rename(mapper=months, axis=1, inplace=True)\n",
    "        x = pd.concat([x, mnth_dummies], axis=1)\n",
    "        x = x.drop('mnth', axis=1)\n",
    "        \n",
    "    if 'hr' in x:\n",
    "        # create dummies for hours\n",
    "        hrs_dummies = pd.get_dummies(x['hr'])\n",
    "        hrs_dummies = hrs_dummies.drop(hrs_dummies.columns[0], axis=1)\n",
    "        x = pd.concat([x, hrs_dummies], axis=1)\n",
    "        x = x.drop('hr', axis=1)\n",
    "        \n",
    "    if 'weekday' in x:\n",
    "        # create dummies for the weekdays; it turns out that only saturdays yields a statistically significant result\n",
    "        days = {1: 'Mon', 2: 'Tue', 3: 'Wed', 4: 'Thu', 5: 'Fri', 6: 'Sat'}\n",
    "        wday_dummies = pd.get_dummies(x['weekday'])\n",
    "        wday_dummies = wday_dummies.drop(wday_dummies.columns[0], axis=1)\n",
    "        wday_dummies.rename(mapper=days, axis=1, inplace=True)\n",
    "        #x = pd.concat([x, pd.DataFrame(wday_dummies['Sat'])], axis=1)\n",
    "        x = pd.concat([x, wday_dummies], axis=1)\n",
    "        x = x.drop('weekday', axis=1)\n",
    "        \n",
    "    if 'weathersit' in x:\n",
    "        weather = {1: 'nice_weather', 2: 'so_so_weather', 3: 'shit_weather', 4: 'really shit weather'}\n",
    "        weather_dummies = pd.get_dummies(x['weathersit'])\n",
    "        weather_dummies = weather_dummies.drop(weather_dummies.columns[0], axis=1)\n",
    "        weather_dummies.rename(mapper=weather, axis=1, inplace=True)\n",
    "        x = pd.concat([x, weather_dummies], axis=1)\n",
    "        x = x.drop('weathersit', axis=1)\n",
    "        \n",
    "    if 'atemp' in x:\n",
    "        x.loc[:, 'atemp2'] = x['atemp']**2\n",
    "        x = x.drop('atemp', axis=1)\n",
    "        \n",
    "    \n",
    "    return x"
   ]
  },
  {
   "cell_type": "markdown",
   "metadata": {},
   "source": [
    "#### Split the data:"
   ]
  },
  {
   "cell_type": "code",
   "execution_count": 7,
   "metadata": {},
   "outputs": [],
   "source": [
    "# split the data into input and output variables\n",
    "X = df.drop('cnt', axis=1)\n",
    "y = df['cnt']\n",
    "casual = df['casual']\n",
    "registered = df['registered'] \n",
    "\n",
    "# split the data into training and test data for casual\n",
    "Xtrain, Xtest, ctrain, ctest = train_test_split(X, casual, random_state=42)\n",
    "\n",
    "# split the data into training and test data for casual\n",
    "Xtrain, Xtest, rtrain, rtest = train_test_split(X, registered, random_state=42)\n",
    "\n",
    "# split the data into training and test data for casual\n",
    "Xtrain, Xtest, ytrain, ytest = train_test_split(X, y, random_state=42)"
   ]
  },
  {
   "cell_type": "markdown",
   "metadata": {},
   "source": [
    "#### Feature Engineering:"
   ]
  },
  {
   "cell_type": "code",
   "execution_count": 8,
   "metadata": {
    "scrolled": true
   },
   "outputs": [
    {
     "data": {
      "text/html": [
       "<div>\n",
       "<style scoped>\n",
       "    .dataframe tbody tr th:only-of-type {\n",
       "        vertical-align: middle;\n",
       "    }\n",
       "\n",
       "    .dataframe tbody tr th {\n",
       "        vertical-align: top;\n",
       "    }\n",
       "\n",
       "    .dataframe thead th {\n",
       "        text-align: right;\n",
       "    }\n",
       "</style>\n",
       "<table border=\"1\" class=\"dataframe\">\n",
       "  <thead>\n",
       "    <tr style=\"text-align: right;\">\n",
       "      <th></th>\n",
       "      <th>yr</th>\n",
       "      <th>holiday</th>\n",
       "      <th>workingday</th>\n",
       "      <th>hum</th>\n",
       "      <th>windspeed</th>\n",
       "      <th>March</th>\n",
       "      <th>Apr</th>\n",
       "      <th>May</th>\n",
       "      <th>Jun</th>\n",
       "      <th>Jul</th>\n",
       "      <th>...</th>\n",
       "      <th>Mon</th>\n",
       "      <th>Tue</th>\n",
       "      <th>Wed</th>\n",
       "      <th>Thu</th>\n",
       "      <th>Fri</th>\n",
       "      <th>Sat</th>\n",
       "      <th>so_so_weather</th>\n",
       "      <th>shit_weather</th>\n",
       "      <th>really shit weather</th>\n",
       "      <th>atemp2</th>\n",
       "    </tr>\n",
       "    <tr>\n",
       "      <th>instant</th>\n",
       "      <th></th>\n",
       "      <th></th>\n",
       "      <th></th>\n",
       "      <th></th>\n",
       "      <th></th>\n",
       "      <th></th>\n",
       "      <th></th>\n",
       "      <th></th>\n",
       "      <th></th>\n",
       "      <th></th>\n",
       "      <th></th>\n",
       "      <th></th>\n",
       "      <th></th>\n",
       "      <th></th>\n",
       "      <th></th>\n",
       "      <th></th>\n",
       "      <th></th>\n",
       "      <th></th>\n",
       "      <th></th>\n",
       "      <th></th>\n",
       "      <th></th>\n",
       "    </tr>\n",
       "  </thead>\n",
       "  <tbody>\n",
       "    <tr>\n",
       "      <th>1946</th>\n",
       "      <td>0</td>\n",
       "      <td>0</td>\n",
       "      <td>0</td>\n",
       "      <td>0.45</td>\n",
       "      <td>0.2537</td>\n",
       "      <td>1</td>\n",
       "      <td>0</td>\n",
       "      <td>0</td>\n",
       "      <td>0</td>\n",
       "      <td>0</td>\n",
       "      <td>...</td>\n",
       "      <td>0</td>\n",
       "      <td>0</td>\n",
       "      <td>0</td>\n",
       "      <td>0</td>\n",
       "      <td>0</td>\n",
       "      <td>1</td>\n",
       "      <td>1</td>\n",
       "      <td>0</td>\n",
       "      <td>0</td>\n",
       "      <td>0.074365</td>\n",
       "    </tr>\n",
       "    <tr>\n",
       "      <th>13427</th>\n",
       "      <td>1</td>\n",
       "      <td>0</td>\n",
       "      <td>1</td>\n",
       "      <td>0.35</td>\n",
       "      <td>0.3582</td>\n",
       "      <td>0</td>\n",
       "      <td>0</td>\n",
       "      <td>0</td>\n",
       "      <td>0</td>\n",
       "      <td>1</td>\n",
       "      <td>...</td>\n",
       "      <td>0</td>\n",
       "      <td>0</td>\n",
       "      <td>1</td>\n",
       "      <td>0</td>\n",
       "      <td>0</td>\n",
       "      <td>0</td>\n",
       "      <td>0</td>\n",
       "      <td>1</td>\n",
       "      <td>0</td>\n",
       "      <td>0.719952</td>\n",
       "    </tr>\n",
       "    <tr>\n",
       "      <th>12899</th>\n",
       "      <td>1</td>\n",
       "      <td>0</td>\n",
       "      <td>1</td>\n",
       "      <td>0.28</td>\n",
       "      <td>0.4627</td>\n",
       "      <td>0</td>\n",
       "      <td>0</td>\n",
       "      <td>0</td>\n",
       "      <td>1</td>\n",
       "      <td>0</td>\n",
       "      <td>...</td>\n",
       "      <td>0</td>\n",
       "      <td>1</td>\n",
       "      <td>0</td>\n",
       "      <td>0</td>\n",
       "      <td>0</td>\n",
       "      <td>0</td>\n",
       "      <td>0</td>\n",
       "      <td>0</td>\n",
       "      <td>0</td>\n",
       "      <td>0.424452</td>\n",
       "    </tr>\n",
       "    <tr>\n",
       "      <th>2571</th>\n",
       "      <td>0</td>\n",
       "      <td>0</td>\n",
       "      <td>1</td>\n",
       "      <td>0.62</td>\n",
       "      <td>0.1940</td>\n",
       "      <td>0</td>\n",
       "      <td>1</td>\n",
       "      <td>0</td>\n",
       "      <td>0</td>\n",
       "      <td>0</td>\n",
       "      <td>...</td>\n",
       "      <td>0</td>\n",
       "      <td>0</td>\n",
       "      <td>0</td>\n",
       "      <td>0</td>\n",
       "      <td>1</td>\n",
       "      <td>0</td>\n",
       "      <td>0</td>\n",
       "      <td>0</td>\n",
       "      <td>0</td>\n",
       "      <td>0.121452</td>\n",
       "    </tr>\n",
       "    <tr>\n",
       "      <th>10765</th>\n",
       "      <td>1</td>\n",
       "      <td>0</td>\n",
       "      <td>1</td>\n",
       "      <td>0.39</td>\n",
       "      <td>0.3582</td>\n",
       "      <td>1</td>\n",
       "      <td>0</td>\n",
       "      <td>0</td>\n",
       "      <td>0</td>\n",
       "      <td>0</td>\n",
       "      <td>...</td>\n",
       "      <td>0</td>\n",
       "      <td>0</td>\n",
       "      <td>0</td>\n",
       "      <td>1</td>\n",
       "      <td>0</td>\n",
       "      <td>0</td>\n",
       "      <td>0</td>\n",
       "      <td>0</td>\n",
       "      <td>0</td>\n",
       "      <td>0.250000</td>\n",
       "    </tr>\n",
       "  </tbody>\n",
       "</table>\n",
       "<p>5 rows × 48 columns</p>\n",
       "</div>"
      ],
      "text/plain": [
       "         yr  holiday  workingday   hum  windspeed  March  Apr  May  Jun  Jul  \\\n",
       "instant                                                                        \n",
       "1946      0        0           0  0.45     0.2537      1    0    0    0    0   \n",
       "13427     1        0           1  0.35     0.3582      0    0    0    0    1   \n",
       "12899     1        0           1  0.28     0.4627      0    0    0    1    0   \n",
       "2571      0        0           1  0.62     0.1940      0    1    0    0    0   \n",
       "10765     1        0           1  0.39     0.3582      1    0    0    0    0   \n",
       "\n",
       "         ...  Mon  Tue  Wed  Thu  Fri  Sat  so_so_weather  shit_weather  \\\n",
       "instant  ...                                                              \n",
       "1946     ...    0    0    0    0    0    1              1             0   \n",
       "13427    ...    0    0    1    0    0    0              0             1   \n",
       "12899    ...    0    1    0    0    0    0              0             0   \n",
       "2571     ...    0    0    0    0    1    0              0             0   \n",
       "10765    ...    0    0    0    1    0    0              0             0   \n",
       "\n",
       "         really shit weather    atemp2  \n",
       "instant                                 \n",
       "1946                       0  0.074365  \n",
       "13427                      0  0.719952  \n",
       "12899                      0  0.424452  \n",
       "2571                       0  0.121452  \n",
       "10765                      0  0.250000  \n",
       "\n",
       "[5 rows x 48 columns]"
      ]
     },
     "execution_count": 8,
     "metadata": {},
     "output_type": "execute_result"
    }
   ],
   "source": [
    "Xtrain = feature_engineer(Xtrain)\n",
    "Xtest = feature_engineer(Xtest)\n",
    "Xtrain.head()"
   ]
  },
  {
   "cell_type": "code",
   "execution_count": 9,
   "metadata": {},
   "outputs": [],
   "source": [
    "#corr = Xtrain.corr()\n",
    "#corr"
   ]
  },
  {
   "cell_type": "markdown",
   "metadata": {},
   "source": [
    "#### Fit the model:"
   ]
  },
  {
   "cell_type": "code",
   "execution_count": 10,
   "metadata": {},
   "outputs": [],
   "source": [
    "mc = LinearRegression()\n",
    "mr = LinearRegression()"
   ]
  },
  {
   "cell_type": "code",
   "execution_count": 11,
   "metadata": {},
   "outputs": [
    {
     "data": {
      "text/plain": [
       "(array([ 1.24413066e+01, -2.83652544e+13, -2.83652544e+13, -2.45934740e+01,\n",
       "        -1.52580657e+01,  1.50678997e+01,  2.06206602e+01,  2.18152326e+01,\n",
       "         1.02743113e+01,  1.82227518e+00,  9.09274066e+00,  1.69956480e+01,\n",
       "         2.04565012e+01,  1.16928407e+01,  4.06103019e+00, -2.00297626e+00,\n",
       "        -2.84867027e+00, -5.78578830e+00, -6.41786671e+00, -3.46402760e+00,\n",
       "        -1.25636518e+00,  5.31941567e+00,  1.39402860e+01,  2.02451248e+01,\n",
       "         3.31760749e+01,  4.35729171e+01,  5.14966677e+01,  5.32568588e+01,\n",
       "         5.14674925e+01,  5.12216026e+01,  5.25966505e+01,  5.55482965e+01,\n",
       "         4.22290796e+01,  3.18411217e+01,  2.22878754e+01,  1.53104515e+01,\n",
       "         1.06888607e+01,  4.72621204e+00,  2.83652544e+13,  2.83652544e+13,\n",
       "         2.83652544e+13,  2.83652544e+13,  2.83652544e+13,  5.88919784e+00,\n",
       "        -3.95847153e+00, -1.10518271e+01, -9.36972039e+00,  9.66835623e+01]),\n",
       " 12.843588613194335)"
      ]
     },
     "execution_count": 11,
     "metadata": {},
     "output_type": "execute_result"
    }
   ],
   "source": [
    "mc.fit(Xtrain, ctrain)\n",
    "mc.coef_, mc.intercept_"
   ]
  },
  {
   "cell_type": "code",
   "execution_count": 12,
   "metadata": {},
   "outputs": [
    {
     "data": {
      "text/plain": [
       "(array([ 7.49415898e+01,  2.83138810e+13,  2.83138810e+13, -5.01386942e+01,\n",
       "        -2.15974891e+01,  2.04394439e+01,  3.85498827e+01,  4.88971110e+01,\n",
       "         4.63945650e+01,  2.83682312e+01,  4.37331511e+01,  7.41330340e+01,\n",
       "         7.62546590e+01,  5.35028471e+01,  3.67574466e+01, -1.46954318e+01,\n",
       "        -2.55856644e+01, -3.28087222e+01, -3.45417267e+01, -1.95250304e+01,\n",
       "         3.43817324e+01,  1.64518721e+02,  2.98175465e+02,  1.43308432e+02,\n",
       "         7.85436008e+01,  9.14400304e+01,  1.27169910e+02,  1.20892272e+02,\n",
       "         9.96519614e+01,  1.09592027e+02,  1.75985038e+02,  3.30311834e+02,\n",
       "         2.98892224e+02,  2.07160051e+02,  1.39506274e+02,  9.44697567e+01,\n",
       "         6.15341087e+01,  2.84159057e+01, -2.83138810e+13, -2.83138810e+13,\n",
       "        -2.83138810e+13, -2.83138810e+13, -2.83138810e+13,  8.73146220e+00,\n",
       "        -6.60718163e+00, -5.29932221e+01, -1.26620958e+02,  1.41733285e+02]),\n",
       " -51.82822389999234)"
      ]
     },
     "execution_count": 12,
     "metadata": {},
     "output_type": "execute_result"
    }
   ],
   "source": [
    "mr.fit(Xtrain, rtrain)\n",
    "mr.coef_, mr.intercept_"
   ]
  },
  {
   "cell_type": "markdown",
   "metadata": {},
   "source": [
    "#### Evaluate the model:"
   ]
  },
  {
   "cell_type": "code",
   "execution_count": 13,
   "metadata": {},
   "outputs": [
    {
     "data": {
      "text/plain": [
       "0.59"
      ]
     },
     "execution_count": 13,
     "metadata": {},
     "output_type": "execute_result"
    }
   ],
   "source": [
    "# let's have a look at the R2 of the model\n",
    "round(mc.score(Xtrain, ctrain), 2)"
   ]
  },
  {
   "cell_type": "code",
   "execution_count": 14,
   "metadata": {},
   "outputs": [
    {
     "data": {
      "text/plain": [
       "0.59"
      ]
     },
     "execution_count": 14,
     "metadata": {},
     "output_type": "execute_result"
    }
   ],
   "source": [
    "# let's have a lookt at the R2 of the model using the test data\n",
    "round(mc.score(Xtest, ctest), 2)"
   ]
  },
  {
   "cell_type": "code",
   "execution_count": 15,
   "metadata": {},
   "outputs": [
    {
     "data": {
      "text/plain": [
       "0.68"
      ]
     },
     "execution_count": 15,
     "metadata": {},
     "output_type": "execute_result"
    }
   ],
   "source": [
    "round(mr.score(Xtrain, rtrain), 2)"
   ]
  },
  {
   "cell_type": "code",
   "execution_count": 16,
   "metadata": {},
   "outputs": [
    {
     "data": {
      "text/plain": [
       "0.67"
      ]
     },
     "execution_count": 16,
     "metadata": {},
     "output_type": "execute_result"
    }
   ],
   "source": [
    "round(mr.score(Xtest, rtest), 2)"
   ]
  },
  {
   "cell_type": "markdown",
   "metadata": {},
   "source": [
    "#### Use statsmodels to output some statistics on the regression results"
   ]
  },
  {
   "cell_type": "code",
   "execution_count": 17,
   "metadata": {
    "scrolled": true
   },
   "outputs": [
    {
     "name": "stderr",
     "output_type": "stream",
     "text": [
      "/Users/stefanroth/anaconda3/lib/python3.6/site-packages/numpy/core/fromnumeric.py:52: FutureWarning: Method .ptp is deprecated and will be removed in a future version. Use numpy.ptp instead.\n",
      "  return getattr(obj, method)(*args, **kwds)\n"
     ]
    },
    {
     "data": {
      "text/html": [
       "<table class=\"simpletable\">\n",
       "<caption>OLS Regression Results</caption>\n",
       "<tr>\n",
       "  <th>Dep. Variable:</th>         <td>casual</td>      <th>  R-squared:         </th> <td>   0.589</td> \n",
       "</tr>\n",
       "<tr>\n",
       "  <th>Model:</th>                   <td>OLS</td>       <th>  Adj. R-squared:    </th> <td>   0.587</td> \n",
       "</tr>\n",
       "<tr>\n",
       "  <th>Method:</th>             <td>Least Squares</td>  <th>  F-statistic:       </th> <td>   395.6</td> \n",
       "</tr>\n",
       "<tr>\n",
       "  <th>Date:</th>             <td>Wed, 12 Jun 2019</td> <th>  Prob (F-statistic):</th>  <td>  0.00</td>  \n",
       "</tr>\n",
       "<tr>\n",
       "  <th>Time:</th>                 <td>19:49:53</td>     <th>  Log-Likelihood:    </th> <td> -63547.</td> \n",
       "</tr>\n",
       "<tr>\n",
       "  <th>No. Observations:</th>      <td> 13034</td>      <th>  AIC:               </th> <td>1.272e+05</td>\n",
       "</tr>\n",
       "<tr>\n",
       "  <th>Df Residuals:</th>          <td> 12986</td>      <th>  BIC:               </th> <td>1.275e+05</td>\n",
       "</tr>\n",
       "<tr>\n",
       "  <th>Df Model:</th>              <td>    47</td>      <th>                     </th>     <td> </td>    \n",
       "</tr>\n",
       "<tr>\n",
       "  <th>Covariance Type:</th>      <td>nonrobust</td>    <th>                     </th>     <td> </td>    \n",
       "</tr>\n",
       "</table>\n",
       "<table class=\"simpletable\">\n",
       "<tr>\n",
       "           <td></td>              <th>coef</th>     <th>std err</th>      <th>t</th>      <th>P>|t|</th>  <th>[0.025</th>    <th>0.975]</th>  \n",
       "</tr>\n",
       "<tr>\n",
       "  <th>const</th>               <td>   12.8012</td> <td>    2.209</td> <td>    5.796</td> <td> 0.000</td> <td>    8.472</td> <td>   17.130</td>\n",
       "</tr>\n",
       "<tr>\n",
       "  <th>yr</th>                  <td>   12.4374</td> <td>    0.561</td> <td>   22.155</td> <td> 0.000</td> <td>   11.337</td> <td>   13.538</td>\n",
       "</tr>\n",
       "<tr>\n",
       "  <th>holiday</th>             <td>   -5.4480</td> <td>    1.576</td> <td>   -3.456</td> <td> 0.001</td> <td>   -8.538</td> <td>   -2.358</td>\n",
       "</tr>\n",
       "<tr>\n",
       "  <th>workingday</th>          <td>  -25.7391</td> <td>    0.648</td> <td>  -39.692</td> <td> 0.000</td> <td>  -27.010</td> <td>  -24.468</td>\n",
       "</tr>\n",
       "<tr>\n",
       "  <th>hum</th>                 <td>  -24.5986</td> <td>    2.002</td> <td>  -12.286</td> <td> 0.000</td> <td>  -28.523</td> <td>  -20.674</td>\n",
       "</tr>\n",
       "<tr>\n",
       "  <th>windspeed</th>           <td>  -15.2613</td> <td>    2.462</td> <td>   -6.199</td> <td> 0.000</td> <td>  -20.087</td> <td>  -10.436</td>\n",
       "</tr>\n",
       "<tr>\n",
       "  <th>March</th>               <td>   15.0764</td> <td>    1.222</td> <td>   12.339</td> <td> 0.000</td> <td>   12.682</td> <td>   17.471</td>\n",
       "</tr>\n",
       "<tr>\n",
       "  <th>Apr</th>                 <td>   20.6134</td> <td>    1.305</td> <td>   15.798</td> <td> 0.000</td> <td>   18.056</td> <td>   23.171</td>\n",
       "</tr>\n",
       "<tr>\n",
       "  <th>May</th>                 <td>   21.8120</td> <td>    1.505</td> <td>   14.496</td> <td> 0.000</td> <td>   18.863</td> <td>   24.761</td>\n",
       "</tr>\n",
       "<tr>\n",
       "  <th>Jun</th>                 <td>   10.2789</td> <td>    1.713</td> <td>    6.000</td> <td> 0.000</td> <td>    6.921</td> <td>   13.637</td>\n",
       "</tr>\n",
       "<tr>\n",
       "  <th>Jul</th>                 <td>    1.8275</td> <td>    1.938</td> <td>    0.943</td> <td> 0.346</td> <td>   -1.972</td> <td>    5.627</td>\n",
       "</tr>\n",
       "<tr>\n",
       "  <th>Aug</th>                 <td>    9.0875</td> <td>    1.744</td> <td>    5.212</td> <td> 0.000</td> <td>    5.670</td> <td>   12.505</td>\n",
       "</tr>\n",
       "<tr>\n",
       "  <th>Sept</th>                <td>   17.0163</td> <td>    1.558</td> <td>   10.921</td> <td> 0.000</td> <td>   13.962</td> <td>   20.070</td>\n",
       "</tr>\n",
       "<tr>\n",
       "  <th>Oct</th>                 <td>   20.4538</td> <td>    1.328</td> <td>   15.406</td> <td> 0.000</td> <td>   17.851</td> <td>   23.056</td>\n",
       "</tr>\n",
       "<tr>\n",
       "  <th>Nov</th>                 <td>   11.6858</td> <td>    1.221</td> <td>    9.570</td> <td> 0.000</td> <td>    9.292</td> <td>   14.079</td>\n",
       "</tr>\n",
       "<tr>\n",
       "  <th>Dec</th>                 <td>    4.0644</td> <td>    1.200</td> <td>    3.388</td> <td> 0.001</td> <td>    1.713</td> <td>    6.416</td>\n",
       "</tr>\n",
       "<tr>\n",
       "  <th>1</th>                   <td>   -2.0488</td> <td>    1.930</td> <td>   -1.062</td> <td> 0.288</td> <td>   -5.832</td> <td>    1.734</td>\n",
       "</tr>\n",
       "<tr>\n",
       "  <th>2</th>                   <td>   -2.8406</td> <td>    1.926</td> <td>   -1.475</td> <td> 0.140</td> <td>   -6.616</td> <td>    0.934</td>\n",
       "</tr>\n",
       "<tr>\n",
       "  <th>3</th>                   <td>   -5.7814</td> <td>    1.980</td> <td>   -2.920</td> <td> 0.004</td> <td>   -9.662</td> <td>   -1.900</td>\n",
       "</tr>\n",
       "<tr>\n",
       "  <th>4</th>                   <td>   -6.4279</td> <td>    1.944</td> <td>   -3.306</td> <td> 0.001</td> <td>  -10.239</td> <td>   -2.617</td>\n",
       "</tr>\n",
       "<tr>\n",
       "  <th>5</th>                   <td>   -3.4585</td> <td>    1.939</td> <td>   -1.783</td> <td> 0.075</td> <td>   -7.260</td> <td>    0.343</td>\n",
       "</tr>\n",
       "<tr>\n",
       "  <th>6</th>                   <td>   -1.2592</td> <td>    1.946</td> <td>   -0.647</td> <td> 0.518</td> <td>   -5.074</td> <td>    2.556</td>\n",
       "</tr>\n",
       "<tr>\n",
       "  <th>7</th>                   <td>    5.3165</td> <td>    1.948</td> <td>    2.729</td> <td> 0.006</td> <td>    1.498</td> <td>    9.135</td>\n",
       "</tr>\n",
       "<tr>\n",
       "  <th>8</th>                   <td>   13.9419</td> <td>    1.936</td> <td>    7.201</td> <td> 0.000</td> <td>   10.147</td> <td>   17.737</td>\n",
       "</tr>\n",
       "<tr>\n",
       "  <th>9</th>                   <td>   20.2435</td> <td>    1.946</td> <td>   10.403</td> <td> 0.000</td> <td>   16.429</td> <td>   24.058</td>\n",
       "</tr>\n",
       "<tr>\n",
       "  <th>10</th>                  <td>   33.1729</td> <td>    1.949</td> <td>   17.025</td> <td> 0.000</td> <td>   29.354</td> <td>   36.992</td>\n",
       "</tr>\n",
       "<tr>\n",
       "  <th>11</th>                  <td>   43.5665</td> <td>    1.972</td> <td>   22.091</td> <td> 0.000</td> <td>   39.701</td> <td>   47.432</td>\n",
       "</tr>\n",
       "<tr>\n",
       "  <th>12</th>                  <td>   51.4933</td> <td>    1.962</td> <td>   26.239</td> <td> 0.000</td> <td>   47.647</td> <td>   55.340</td>\n",
       "</tr>\n",
       "<tr>\n",
       "  <th>13</th>                  <td>   53.2545</td> <td>    1.976</td> <td>   26.948</td> <td> 0.000</td> <td>   49.381</td> <td>   57.128</td>\n",
       "</tr>\n",
       "<tr>\n",
       "  <th>14</th>                  <td>   51.4641</td> <td>    2.018</td> <td>   25.498</td> <td> 0.000</td> <td>   47.508</td> <td>   55.420</td>\n",
       "</tr>\n",
       "<tr>\n",
       "  <th>15</th>                  <td>   51.2162</td> <td>    2.006</td> <td>   25.527</td> <td> 0.000</td> <td>   47.283</td> <td>   55.149</td>\n",
       "</tr>\n",
       "<tr>\n",
       "  <th>16</th>                  <td>   52.5900</td> <td>    1.990</td> <td>   26.432</td> <td> 0.000</td> <td>   48.690</td> <td>   56.490</td>\n",
       "</tr>\n",
       "<tr>\n",
       "  <th>17</th>                  <td>   55.5345</td> <td>    1.985</td> <td>   27.983</td> <td> 0.000</td> <td>   51.644</td> <td>   59.425</td>\n",
       "</tr>\n",
       "<tr>\n",
       "  <th>18</th>                  <td>   42.2299</td> <td>    1.982</td> <td>   21.302</td> <td> 0.000</td> <td>   38.344</td> <td>   46.116</td>\n",
       "</tr>\n",
       "<tr>\n",
       "  <th>19</th>                  <td>   31.8396</td> <td>    1.965</td> <td>   16.207</td> <td> 0.000</td> <td>   27.989</td> <td>   35.690</td>\n",
       "</tr>\n",
       "<tr>\n",
       "  <th>20</th>                  <td>   22.2921</td> <td>    1.950</td> <td>   11.431</td> <td> 0.000</td> <td>   18.469</td> <td>   26.115</td>\n",
       "</tr>\n",
       "<tr>\n",
       "  <th>21</th>                  <td>   15.3251</td> <td>    1.937</td> <td>    7.913</td> <td> 0.000</td> <td>   11.529</td> <td>   19.122</td>\n",
       "</tr>\n",
       "<tr>\n",
       "  <th>22</th>                  <td>   10.6834</td> <td>    1.933</td> <td>    5.528</td> <td> 0.000</td> <td>    6.895</td> <td>   14.472</td>\n",
       "</tr>\n",
       "<tr>\n",
       "  <th>23</th>                  <td>    4.7104</td> <td>    1.942</td> <td>    2.426</td> <td> 0.015</td> <td>    0.904</td> <td>    8.517</td>\n",
       "</tr>\n",
       "<tr>\n",
       "  <th>Mon</th>                 <td>   -5.4622</td> <td>    0.701</td> <td>   -7.793</td> <td> 0.000</td> <td>   -6.836</td> <td>   -4.088</td>\n",
       "</tr>\n",
       "<tr>\n",
       "  <th>Tue</th>                 <td>   -8.2608</td> <td>    0.762</td> <td>  -10.836</td> <td> 0.000</td> <td>   -9.755</td> <td>   -6.767</td>\n",
       "</tr>\n",
       "<tr>\n",
       "  <th>Wed</th>                 <td>   -8.5670</td> <td>    0.757</td> <td>  -11.314</td> <td> 0.000</td> <td>  -10.051</td> <td>   -7.083</td>\n",
       "</tr>\n",
       "<tr>\n",
       "  <th>Thu</th>                 <td>   -8.6459</td> <td>    0.747</td> <td>  -11.573</td> <td> 0.000</td> <td>  -10.110</td> <td>   -7.182</td>\n",
       "</tr>\n",
       "<tr>\n",
       "  <th>Fri</th>                 <td>   -0.2512</td> <td>    0.750</td> <td>   -0.335</td> <td> 0.738</td> <td>   -1.720</td> <td>    1.218</td>\n",
       "</tr>\n",
       "<tr>\n",
       "  <th>Sat</th>                 <td>    5.8895</td> <td>    1.034</td> <td>    5.697</td> <td> 0.000</td> <td>    3.863</td> <td>    7.916</td>\n",
       "</tr>\n",
       "<tr>\n",
       "  <th>so_so_weather</th>       <td>   -3.9580</td> <td>    0.692</td> <td>   -5.720</td> <td> 0.000</td> <td>   -5.314</td> <td>   -2.602</td>\n",
       "</tr>\n",
       "<tr>\n",
       "  <th>shit_weather</th>        <td>  -11.0517</td> <td>    1.166</td> <td>   -9.475</td> <td> 0.000</td> <td>  -13.338</td> <td>   -8.765</td>\n",
       "</tr>\n",
       "<tr>\n",
       "  <th>really shit weather</th> <td>   -9.3439</td> <td>   22.518</td> <td>   -0.415</td> <td> 0.678</td> <td>  -53.483</td> <td>   34.795</td>\n",
       "</tr>\n",
       "<tr>\n",
       "  <th>atemp2</th>              <td>   96.6676</td> <td>    3.660</td> <td>   26.410</td> <td> 0.000</td> <td>   89.493</td> <td>  103.842</td>\n",
       "</tr>\n",
       "</table>\n",
       "<table class=\"simpletable\">\n",
       "<tr>\n",
       "  <th>Omnibus:</th>       <td>5616.658</td> <th>  Durbin-Watson:     </th> <td>   2.011</td> \n",
       "</tr>\n",
       "<tr>\n",
       "  <th>Prob(Omnibus):</th>  <td> 0.000</td>  <th>  Jarque-Bera (JB):  </th> <td>41317.862</td>\n",
       "</tr>\n",
       "<tr>\n",
       "  <th>Skew:</th>           <td> 1.911</td>  <th>  Prob(JB):          </th> <td>    0.00</td> \n",
       "</tr>\n",
       "<tr>\n",
       "  <th>Kurtosis:</th>       <td>10.840</td>  <th>  Cond. No.          </th> <td>2.01e+15</td> \n",
       "</tr>\n",
       "</table><br/><br/>Warnings:<br/>[1] Standard Errors assume that the covariance matrix of the errors is correctly specified.<br/>[2] The smallest eigenvalue is 8.46e-27. This might indicate that there are<br/>strong multicollinearity problems or that the design matrix is singular."
      ],
      "text/plain": [
       "<class 'statsmodels.iolib.summary.Summary'>\n",
       "\"\"\"\n",
       "                            OLS Regression Results                            \n",
       "==============================================================================\n",
       "Dep. Variable:                 casual   R-squared:                       0.589\n",
       "Model:                            OLS   Adj. R-squared:                  0.587\n",
       "Method:                 Least Squares   F-statistic:                     395.6\n",
       "Date:                Wed, 12 Jun 2019   Prob (F-statistic):               0.00\n",
       "Time:                        19:49:53   Log-Likelihood:                -63547.\n",
       "No. Observations:               13034   AIC:                         1.272e+05\n",
       "Df Residuals:                   12986   BIC:                         1.275e+05\n",
       "Df Model:                          47                                         \n",
       "Covariance Type:            nonrobust                                         \n",
       "=======================================================================================\n",
       "                          coef    std err          t      P>|t|      [0.025      0.975]\n",
       "---------------------------------------------------------------------------------------\n",
       "const                  12.8012      2.209      5.796      0.000       8.472      17.130\n",
       "yr                     12.4374      0.561     22.155      0.000      11.337      13.538\n",
       "holiday                -5.4480      1.576     -3.456      0.001      -8.538      -2.358\n",
       "workingday            -25.7391      0.648    -39.692      0.000     -27.010     -24.468\n",
       "hum                   -24.5986      2.002    -12.286      0.000     -28.523     -20.674\n",
       "windspeed             -15.2613      2.462     -6.199      0.000     -20.087     -10.436\n",
       "March                  15.0764      1.222     12.339      0.000      12.682      17.471\n",
       "Apr                    20.6134      1.305     15.798      0.000      18.056      23.171\n",
       "May                    21.8120      1.505     14.496      0.000      18.863      24.761\n",
       "Jun                    10.2789      1.713      6.000      0.000       6.921      13.637\n",
       "Jul                     1.8275      1.938      0.943      0.346      -1.972       5.627\n",
       "Aug                     9.0875      1.744      5.212      0.000       5.670      12.505\n",
       "Sept                   17.0163      1.558     10.921      0.000      13.962      20.070\n",
       "Oct                    20.4538      1.328     15.406      0.000      17.851      23.056\n",
       "Nov                    11.6858      1.221      9.570      0.000       9.292      14.079\n",
       "Dec                     4.0644      1.200      3.388      0.001       1.713       6.416\n",
       "1                      -2.0488      1.930     -1.062      0.288      -5.832       1.734\n",
       "2                      -2.8406      1.926     -1.475      0.140      -6.616       0.934\n",
       "3                      -5.7814      1.980     -2.920      0.004      -9.662      -1.900\n",
       "4                      -6.4279      1.944     -3.306      0.001     -10.239      -2.617\n",
       "5                      -3.4585      1.939     -1.783      0.075      -7.260       0.343\n",
       "6                      -1.2592      1.946     -0.647      0.518      -5.074       2.556\n",
       "7                       5.3165      1.948      2.729      0.006       1.498       9.135\n",
       "8                      13.9419      1.936      7.201      0.000      10.147      17.737\n",
       "9                      20.2435      1.946     10.403      0.000      16.429      24.058\n",
       "10                     33.1729      1.949     17.025      0.000      29.354      36.992\n",
       "11                     43.5665      1.972     22.091      0.000      39.701      47.432\n",
       "12                     51.4933      1.962     26.239      0.000      47.647      55.340\n",
       "13                     53.2545      1.976     26.948      0.000      49.381      57.128\n",
       "14                     51.4641      2.018     25.498      0.000      47.508      55.420\n",
       "15                     51.2162      2.006     25.527      0.000      47.283      55.149\n",
       "16                     52.5900      1.990     26.432      0.000      48.690      56.490\n",
       "17                     55.5345      1.985     27.983      0.000      51.644      59.425\n",
       "18                     42.2299      1.982     21.302      0.000      38.344      46.116\n",
       "19                     31.8396      1.965     16.207      0.000      27.989      35.690\n",
       "20                     22.2921      1.950     11.431      0.000      18.469      26.115\n",
       "21                     15.3251      1.937      7.913      0.000      11.529      19.122\n",
       "22                     10.6834      1.933      5.528      0.000       6.895      14.472\n",
       "23                      4.7104      1.942      2.426      0.015       0.904       8.517\n",
       "Mon                    -5.4622      0.701     -7.793      0.000      -6.836      -4.088\n",
       "Tue                    -8.2608      0.762    -10.836      0.000      -9.755      -6.767\n",
       "Wed                    -8.5670      0.757    -11.314      0.000     -10.051      -7.083\n",
       "Thu                    -8.6459      0.747    -11.573      0.000     -10.110      -7.182\n",
       "Fri                    -0.2512      0.750     -0.335      0.738      -1.720       1.218\n",
       "Sat                     5.8895      1.034      5.697      0.000       3.863       7.916\n",
       "so_so_weather          -3.9580      0.692     -5.720      0.000      -5.314      -2.602\n",
       "shit_weather          -11.0517      1.166     -9.475      0.000     -13.338      -8.765\n",
       "really shit weather    -9.3439     22.518     -0.415      0.678     -53.483      34.795\n",
       "atemp2                 96.6676      3.660     26.410      0.000      89.493     103.842\n",
       "==============================================================================\n",
       "Omnibus:                     5616.658   Durbin-Watson:                   2.011\n",
       "Prob(Omnibus):                  0.000   Jarque-Bera (JB):            41317.862\n",
       "Skew:                           1.911   Prob(JB):                         0.00\n",
       "Kurtosis:                      10.840   Cond. No.                     2.01e+15\n",
       "==============================================================================\n",
       "\n",
       "Warnings:\n",
       "[1] Standard Errors assume that the covariance matrix of the errors is correctly specified.\n",
       "[2] The smallest eigenvalue is 8.46e-27. This might indicate that there are\n",
       "strong multicollinearity problems or that the design matrix is singular.\n",
       "\"\"\""
      ]
     },
     "execution_count": 17,
     "metadata": {},
     "output_type": "execute_result"
    }
   ],
   "source": [
    "# Fit and summarize OLS model\n",
    "modc = sm.OLS(ctrain, sm.add_constant(Xtrain))\n",
    "\n",
    "res = modc.fit()\n",
    "\n",
    "res.summary()"
   ]
  },
  {
   "cell_type": "code",
   "execution_count": 18,
   "metadata": {},
   "outputs": [
    {
     "name": "stderr",
     "output_type": "stream",
     "text": [
      "/Users/stefanroth/anaconda3/lib/python3.6/site-packages/numpy/core/fromnumeric.py:52: FutureWarning: Method .ptp is deprecated and will be removed in a future version. Use numpy.ptp instead.\n",
      "  return getattr(obj, method)(*args, **kwds)\n"
     ]
    },
    {
     "data": {
      "text/html": [
       "<table class=\"simpletable\">\n",
       "<caption>OLS Regression Results</caption>\n",
       "<tr>\n",
       "  <th>Dep. Variable:</th>       <td>registered</td>    <th>  R-squared:         </th> <td>   0.676</td> \n",
       "</tr>\n",
       "<tr>\n",
       "  <th>Model:</th>                   <td>OLS</td>       <th>  Adj. R-squared:    </th> <td>   0.675</td> \n",
       "</tr>\n",
       "<tr>\n",
       "  <th>Method:</th>             <td>Least Squares</td>  <th>  F-statistic:       </th> <td>   577.2</td> \n",
       "</tr>\n",
       "<tr>\n",
       "  <th>Date:</th>             <td>Wed, 12 Jun 2019</td> <th>  Prob (F-statistic):</th>  <td>  0.00</td>  \n",
       "</tr>\n",
       "<tr>\n",
       "  <th>Time:</th>                 <td>19:49:53</td>     <th>  Log-Likelihood:    </th> <td> -76610.</td> \n",
       "</tr>\n",
       "<tr>\n",
       "  <th>No. Observations:</th>      <td> 13034</td>      <th>  AIC:               </th> <td>1.533e+05</td>\n",
       "</tr>\n",
       "<tr>\n",
       "  <th>Df Residuals:</th>          <td> 12986</td>      <th>  BIC:               </th> <td>1.537e+05</td>\n",
       "</tr>\n",
       "<tr>\n",
       "  <th>Df Model:</th>              <td>    47</td>      <th>                     </th>     <td> </td>    \n",
       "</tr>\n",
       "<tr>\n",
       "  <th>Covariance Type:</th>      <td>nonrobust</td>    <th>                     </th>     <td> </td>    \n",
       "</tr>\n",
       "</table>\n",
       "<table class=\"simpletable\">\n",
       "<tr>\n",
       "           <td></td>              <th>coef</th>     <th>std err</th>      <th>t</th>      <th>P>|t|</th>  <th>[0.025</th>    <th>0.975]</th>  \n",
       "</tr>\n",
       "<tr>\n",
       "  <th>const</th>               <td>  -51.7896</td> <td>    6.017</td> <td>   -8.607</td> <td> 0.000</td> <td>  -63.584</td> <td>  -39.995</td>\n",
       "</tr>\n",
       "<tr>\n",
       "  <th>yr</th>                  <td>   74.9455</td> <td>    1.529</td> <td>   49.001</td> <td> 0.000</td> <td>   71.948</td> <td>   77.943</td>\n",
       "</tr>\n",
       "<tr>\n",
       "  <th>holiday</th>             <td>  -14.5898</td> <td>    4.294</td> <td>   -3.397</td> <td> 0.001</td> <td>  -23.007</td> <td>   -6.172</td>\n",
       "</tr>\n",
       "<tr>\n",
       "  <th>workingday</th>          <td>   39.0026</td> <td>    1.767</td> <td>   22.076</td> <td> 0.000</td> <td>   35.540</td> <td>   42.466</td>\n",
       "</tr>\n",
       "<tr>\n",
       "  <th>hum</th>                 <td>  -50.1297</td> <td>    5.455</td> <td>   -9.190</td> <td> 0.000</td> <td>  -60.822</td> <td>  -39.438</td>\n",
       "</tr>\n",
       "<tr>\n",
       "  <th>windspeed</th>           <td>  -21.5956</td> <td>    6.707</td> <td>   -3.220</td> <td> 0.001</td> <td>  -34.743</td> <td>   -8.449</td>\n",
       "</tr>\n",
       "<tr>\n",
       "  <th>March</th>               <td>   20.4314</td> <td>    3.329</td> <td>    6.138</td> <td> 0.000</td> <td>   13.907</td> <td>   26.956</td>\n",
       "</tr>\n",
       "<tr>\n",
       "  <th>Apr</th>                 <td>   38.5570</td> <td>    3.555</td> <td>   10.846</td> <td> 0.000</td> <td>   31.589</td> <td>   45.525</td>\n",
       "</tr>\n",
       "<tr>\n",
       "  <th>May</th>                 <td>   48.8950</td> <td>    4.099</td> <td>   11.928</td> <td> 0.000</td> <td>   40.860</td> <td>   56.930</td>\n",
       "</tr>\n",
       "<tr>\n",
       "  <th>Jun</th>                 <td>   46.3875</td> <td>    4.667</td> <td>    9.939</td> <td> 0.000</td> <td>   37.239</td> <td>   55.536</td>\n",
       "</tr>\n",
       "<tr>\n",
       "  <th>Jul</th>                 <td>   28.3646</td> <td>    5.281</td> <td>    5.371</td> <td> 0.000</td> <td>   18.013</td> <td>   38.716</td>\n",
       "</tr>\n",
       "<tr>\n",
       "  <th>Aug</th>                 <td>   43.7370</td> <td>    4.750</td> <td>    9.207</td> <td> 0.000</td> <td>   34.426</td> <td>   53.048</td>\n",
       "</tr>\n",
       "<tr>\n",
       "  <th>Sept</th>                <td>   74.1168</td> <td>    4.245</td> <td>   17.459</td> <td> 0.000</td> <td>   65.796</td> <td>   82.438</td>\n",
       "</tr>\n",
       "<tr>\n",
       "  <th>Oct</th>                 <td>   76.2523</td> <td>    3.617</td> <td>   21.081</td> <td> 0.000</td> <td>   69.162</td> <td>   83.342</td>\n",
       "</tr>\n",
       "<tr>\n",
       "  <th>Nov</th>                 <td>   53.5079</td> <td>    3.327</td> <td>   16.084</td> <td> 0.000</td> <td>   46.987</td> <td>   60.029</td>\n",
       "</tr>\n",
       "<tr>\n",
       "  <th>Dec</th>                 <td>   36.7604</td> <td>    3.268</td> <td>   11.248</td> <td> 0.000</td> <td>   30.354</td> <td>   43.166</td>\n",
       "</tr>\n",
       "<tr>\n",
       "  <th>1</th>                   <td>  -14.6451</td> <td>    5.258</td> <td>   -2.785</td> <td> 0.005</td> <td>  -24.951</td> <td>   -4.339</td>\n",
       "</tr>\n",
       "<tr>\n",
       "  <th>2</th>                   <td>  -25.5964</td> <td>    5.247</td> <td>   -4.878</td> <td> 0.000</td> <td>  -35.881</td> <td>  -15.312</td>\n",
       "</tr>\n",
       "<tr>\n",
       "  <th>3</th>                   <td>  -32.8153</td> <td>    5.394</td> <td>   -6.083</td> <td> 0.000</td> <td>  -43.389</td> <td>  -22.242</td>\n",
       "</tr>\n",
       "<tr>\n",
       "  <th>4</th>                   <td>  -34.5337</td> <td>    5.297</td> <td>   -6.519</td> <td> 0.000</td> <td>  -44.917</td> <td>  -24.150</td>\n",
       "</tr>\n",
       "<tr>\n",
       "  <th>5</th>                   <td>  -19.5327</td> <td>    5.284</td> <td>   -3.697</td> <td> 0.000</td> <td>  -29.890</td> <td>   -9.175</td>\n",
       "</tr>\n",
       "<tr>\n",
       "  <th>6</th>                   <td>   34.3832</td> <td>    5.302</td> <td>    6.485</td> <td> 0.000</td> <td>   23.990</td> <td>   44.776</td>\n",
       "</tr>\n",
       "<tr>\n",
       "  <th>7</th>                   <td>  164.5222</td> <td>    5.308</td> <td>   30.997</td> <td> 0.000</td> <td>  154.118</td> <td>  174.926</td>\n",
       "</tr>\n",
       "<tr>\n",
       "  <th>8</th>                   <td>  298.1740</td> <td>    5.275</td> <td>   56.526</td> <td> 0.000</td> <td>  287.834</td> <td>  308.514</td>\n",
       "</tr>\n",
       "<tr>\n",
       "  <th>9</th>                   <td>  143.3103</td> <td>    5.301</td> <td>   27.032</td> <td> 0.000</td> <td>  132.919</td> <td>  153.702</td>\n",
       "</tr>\n",
       "<tr>\n",
       "  <th>10</th>                  <td>   78.5492</td> <td>    5.309</td> <td>   14.797</td> <td> 0.000</td> <td>   68.144</td> <td>   88.955</td>\n",
       "</tr>\n",
       "<tr>\n",
       "  <th>11</th>                  <td>   91.4477</td> <td>    5.373</td> <td>   17.020</td> <td> 0.000</td> <td>   80.916</td> <td>  101.979</td>\n",
       "</tr>\n",
       "<tr>\n",
       "  <th>12</th>                  <td>  127.1724</td> <td>    5.347</td> <td>   23.786</td> <td> 0.000</td> <td>  116.692</td> <td>  137.653</td>\n",
       "</tr>\n",
       "<tr>\n",
       "  <th>13</th>                  <td>  120.8945</td> <td>    5.384</td> <td>   22.454</td> <td> 0.000</td> <td>  110.341</td> <td>  131.448</td>\n",
       "</tr>\n",
       "<tr>\n",
       "  <th>14</th>                  <td>   99.6525</td> <td>    5.499</td> <td>   18.122</td> <td> 0.000</td> <td>   88.874</td> <td>  110.431</td>\n",
       "</tr>\n",
       "<tr>\n",
       "  <th>15</th>                  <td>  109.5894</td> <td>    5.466</td> <td>   20.049</td> <td> 0.000</td> <td>   98.875</td> <td>  120.304</td>\n",
       "</tr>\n",
       "<tr>\n",
       "  <th>16</th>                  <td>  175.9899</td> <td>    5.421</td> <td>   32.467</td> <td> 0.000</td> <td>  165.365</td> <td>  186.615</td>\n",
       "</tr>\n",
       "<tr>\n",
       "  <th>17</th>                  <td>  330.3179</td> <td>    5.407</td> <td>   61.092</td> <td> 0.000</td> <td>  319.720</td> <td>  340.916</td>\n",
       "</tr>\n",
       "<tr>\n",
       "  <th>18</th>                  <td>  298.8923</td> <td>    5.401</td> <td>   55.339</td> <td> 0.000</td> <td>  288.305</td> <td>  309.479</td>\n",
       "</tr>\n",
       "<tr>\n",
       "  <th>19</th>                  <td>  207.1632</td> <td>    5.352</td> <td>   38.706</td> <td> 0.000</td> <td>  196.672</td> <td>  217.654</td>\n",
       "</tr>\n",
       "<tr>\n",
       "  <th>20</th>                  <td>  139.5082</td> <td>    5.313</td> <td>   26.257</td> <td> 0.000</td> <td>  129.094</td> <td>  149.923</td>\n",
       "</tr>\n",
       "<tr>\n",
       "  <th>21</th>                  <td>   94.4511</td> <td>    5.277</td> <td>   17.900</td> <td> 0.000</td> <td>   84.108</td> <td>  104.794</td>\n",
       "</tr>\n",
       "<tr>\n",
       "  <th>22</th>                  <td>   61.5416</td> <td>    5.265</td> <td>   11.688</td> <td> 0.000</td> <td>   51.221</td> <td>   71.863</td>\n",
       "</tr>\n",
       "<tr>\n",
       "  <th>23</th>                  <td>   28.4290</td> <td>    5.290</td> <td>    5.374</td> <td> 0.000</td> <td>   18.059</td> <td>   38.798</td>\n",
       "</tr>\n",
       "<tr>\n",
       "  <th>Mon</th>                 <td>   -0.2627</td> <td>    1.910</td> <td>   -0.138</td> <td> 0.891</td> <td>   -4.006</td> <td>    3.481</td>\n",
       "</tr>\n",
       "<tr>\n",
       "  <th>Tue</th>                 <td>    6.9002</td> <td>    2.077</td> <td>    3.322</td> <td> 0.001</td> <td>    2.829</td> <td>   10.971</td>\n",
       "</tr>\n",
       "<tr>\n",
       "  <th>Wed</th>                 <td>    8.2335</td> <td>    2.063</td> <td>    3.991</td> <td> 0.000</td> <td>    4.190</td> <td>   12.277</td>\n",
       "</tr>\n",
       "<tr>\n",
       "  <th>Thu</th>                 <td>    6.3107</td> <td>    2.035</td> <td>    3.100</td> <td> 0.002</td> <td>    2.321</td> <td>   10.300</td>\n",
       "</tr>\n",
       "<tr>\n",
       "  <th>Fri</th>                 <td>    3.2311</td> <td>    2.042</td> <td>    1.582</td> <td> 0.114</td> <td>   -0.772</td> <td>    7.234</td>\n",
       "</tr>\n",
       "<tr>\n",
       "  <th>Sat</th>                 <td>    8.7296</td> <td>    2.816</td> <td>    3.100</td> <td> 0.002</td> <td>    3.209</td> <td>   14.250</td>\n",
       "</tr>\n",
       "<tr>\n",
       "  <th>so_so_weather</th>       <td>   -6.6085</td> <td>    1.885</td> <td>   -3.506</td> <td> 0.000</td> <td>  -10.304</td> <td>   -2.913</td>\n",
       "</tr>\n",
       "<tr>\n",
       "  <th>shit_weather</th>        <td>  -52.9989</td> <td>    3.178</td> <td>  -16.678</td> <td> 0.000</td> <td>  -59.228</td> <td>  -46.770</td>\n",
       "</tr>\n",
       "<tr>\n",
       "  <th>really shit weather</th> <td> -126.6450</td> <td>   61.349</td> <td>   -2.064</td> <td> 0.039</td> <td> -246.898</td> <td>   -6.392</td>\n",
       "</tr>\n",
       "<tr>\n",
       "  <th>atemp2</th>              <td>  141.7493</td> <td>    9.972</td> <td>   14.215</td> <td> 0.000</td> <td>  122.203</td> <td>  161.296</td>\n",
       "</tr>\n",
       "</table>\n",
       "<table class=\"simpletable\">\n",
       "<tr>\n",
       "  <th>Omnibus:</th>       <td>796.785</td> <th>  Durbin-Watson:     </th> <td>   1.999</td>\n",
       "</tr>\n",
       "<tr>\n",
       "  <th>Prob(Omnibus):</th> <td> 0.000</td>  <th>  Jarque-Bera (JB):  </th> <td>2190.430</td>\n",
       "</tr>\n",
       "<tr>\n",
       "  <th>Skew:</th>          <td> 0.331</td>  <th>  Prob(JB):          </th> <td>    0.00</td>\n",
       "</tr>\n",
       "<tr>\n",
       "  <th>Kurtosis:</th>      <td> 4.896</td>  <th>  Cond. No.          </th> <td>2.01e+15</td>\n",
       "</tr>\n",
       "</table><br/><br/>Warnings:<br/>[1] Standard Errors assume that the covariance matrix of the errors is correctly specified.<br/>[2] The smallest eigenvalue is 8.46e-27. This might indicate that there are<br/>strong multicollinearity problems or that the design matrix is singular."
      ],
      "text/plain": [
       "<class 'statsmodels.iolib.summary.Summary'>\n",
       "\"\"\"\n",
       "                            OLS Regression Results                            \n",
       "==============================================================================\n",
       "Dep. Variable:             registered   R-squared:                       0.676\n",
       "Model:                            OLS   Adj. R-squared:                  0.675\n",
       "Method:                 Least Squares   F-statistic:                     577.2\n",
       "Date:                Wed, 12 Jun 2019   Prob (F-statistic):               0.00\n",
       "Time:                        19:49:53   Log-Likelihood:                -76610.\n",
       "No. Observations:               13034   AIC:                         1.533e+05\n",
       "Df Residuals:                   12986   BIC:                         1.537e+05\n",
       "Df Model:                          47                                         \n",
       "Covariance Type:            nonrobust                                         \n",
       "=======================================================================================\n",
       "                          coef    std err          t      P>|t|      [0.025      0.975]\n",
       "---------------------------------------------------------------------------------------\n",
       "const                 -51.7896      6.017     -8.607      0.000     -63.584     -39.995\n",
       "yr                     74.9455      1.529     49.001      0.000      71.948      77.943\n",
       "holiday               -14.5898      4.294     -3.397      0.001     -23.007      -6.172\n",
       "workingday             39.0026      1.767     22.076      0.000      35.540      42.466\n",
       "hum                   -50.1297      5.455     -9.190      0.000     -60.822     -39.438\n",
       "windspeed             -21.5956      6.707     -3.220      0.001     -34.743      -8.449\n",
       "March                  20.4314      3.329      6.138      0.000      13.907      26.956\n",
       "Apr                    38.5570      3.555     10.846      0.000      31.589      45.525\n",
       "May                    48.8950      4.099     11.928      0.000      40.860      56.930\n",
       "Jun                    46.3875      4.667      9.939      0.000      37.239      55.536\n",
       "Jul                    28.3646      5.281      5.371      0.000      18.013      38.716\n",
       "Aug                    43.7370      4.750      9.207      0.000      34.426      53.048\n",
       "Sept                   74.1168      4.245     17.459      0.000      65.796      82.438\n",
       "Oct                    76.2523      3.617     21.081      0.000      69.162      83.342\n",
       "Nov                    53.5079      3.327     16.084      0.000      46.987      60.029\n",
       "Dec                    36.7604      3.268     11.248      0.000      30.354      43.166\n",
       "1                     -14.6451      5.258     -2.785      0.005     -24.951      -4.339\n",
       "2                     -25.5964      5.247     -4.878      0.000     -35.881     -15.312\n",
       "3                     -32.8153      5.394     -6.083      0.000     -43.389     -22.242\n",
       "4                     -34.5337      5.297     -6.519      0.000     -44.917     -24.150\n",
       "5                     -19.5327      5.284     -3.697      0.000     -29.890      -9.175\n",
       "6                      34.3832      5.302      6.485      0.000      23.990      44.776\n",
       "7                     164.5222      5.308     30.997      0.000     154.118     174.926\n",
       "8                     298.1740      5.275     56.526      0.000     287.834     308.514\n",
       "9                     143.3103      5.301     27.032      0.000     132.919     153.702\n",
       "10                     78.5492      5.309     14.797      0.000      68.144      88.955\n",
       "11                     91.4477      5.373     17.020      0.000      80.916     101.979\n",
       "12                    127.1724      5.347     23.786      0.000     116.692     137.653\n",
       "13                    120.8945      5.384     22.454      0.000     110.341     131.448\n",
       "14                     99.6525      5.499     18.122      0.000      88.874     110.431\n",
       "15                    109.5894      5.466     20.049      0.000      98.875     120.304\n",
       "16                    175.9899      5.421     32.467      0.000     165.365     186.615\n",
       "17                    330.3179      5.407     61.092      0.000     319.720     340.916\n",
       "18                    298.8923      5.401     55.339      0.000     288.305     309.479\n",
       "19                    207.1632      5.352     38.706      0.000     196.672     217.654\n",
       "20                    139.5082      5.313     26.257      0.000     129.094     149.923\n",
       "21                     94.4511      5.277     17.900      0.000      84.108     104.794\n",
       "22                     61.5416      5.265     11.688      0.000      51.221      71.863\n",
       "23                     28.4290      5.290      5.374      0.000      18.059      38.798\n",
       "Mon                    -0.2627      1.910     -0.138      0.891      -4.006       3.481\n",
       "Tue                     6.9002      2.077      3.322      0.001       2.829      10.971\n",
       "Wed                     8.2335      2.063      3.991      0.000       4.190      12.277\n",
       "Thu                     6.3107      2.035      3.100      0.002       2.321      10.300\n",
       "Fri                     3.2311      2.042      1.582      0.114      -0.772       7.234\n",
       "Sat                     8.7296      2.816      3.100      0.002       3.209      14.250\n",
       "so_so_weather          -6.6085      1.885     -3.506      0.000     -10.304      -2.913\n",
       "shit_weather          -52.9989      3.178    -16.678      0.000     -59.228     -46.770\n",
       "really shit weather  -126.6450     61.349     -2.064      0.039    -246.898      -6.392\n",
       "atemp2                141.7493      9.972     14.215      0.000     122.203     161.296\n",
       "==============================================================================\n",
       "Omnibus:                      796.785   Durbin-Watson:                   1.999\n",
       "Prob(Omnibus):                  0.000   Jarque-Bera (JB):             2190.430\n",
       "Skew:                           0.331   Prob(JB):                         0.00\n",
       "Kurtosis:                       4.896   Cond. No.                     2.01e+15\n",
       "==============================================================================\n",
       "\n",
       "Warnings:\n",
       "[1] Standard Errors assume that the covariance matrix of the errors is correctly specified.\n",
       "[2] The smallest eigenvalue is 8.46e-27. This might indicate that there are\n",
       "strong multicollinearity problems or that the design matrix is singular.\n",
       "\"\"\""
      ]
     },
     "execution_count": 18,
     "metadata": {},
     "output_type": "execute_result"
    }
   ],
   "source": [
    "# Fit and summarize OLS model\n",
    "modr = sm.OLS(rtrain, sm.add_constant(Xtrain))\n",
    "\n",
    "res = modr.fit()\n",
    "\n",
    "res.summary()"
   ]
  },
  {
   "cell_type": "markdown",
   "metadata": {},
   "source": [
    "#### Check that the assumptions of the model hold:"
   ]
  },
  {
   "cell_type": "code",
   "execution_count": 19,
   "metadata": {},
   "outputs": [
    {
     "data": {
      "text/plain": [
       "-14.45"
      ]
     },
     "execution_count": 19,
     "metadata": {},
     "output_type": "execute_result"
    }
   ],
   "source": [
    "errors = mc.predict(Xtrain) + mr.predict(Xtrain) - ytrain\n",
    "round(errors.sum(), 2)"
   ]
  },
  {
   "cell_type": "markdown",
   "metadata": {},
   "source": [
    "* the sum of errors is roughly zero; the assumption of zero error in expectation holds"
   ]
  },
  {
   "cell_type": "code",
   "execution_count": 20,
   "metadata": {},
   "outputs": [
    {
     "name": "stderr",
     "output_type": "stream",
     "text": [
      "/Users/stefanroth/anaconda3/lib/python3.6/site-packages/scipy/stats/morestats.py:1309: UserWarning: p-value may not be accurate for N > 5000.\n",
      "  warnings.warn(\"p-value may not be accurate for N > 5000.\")\n"
     ]
    },
    {
     "data": {
      "text/plain": [
       "(0.9732308983802795, 1.2751816025355835e-43)"
      ]
     },
     "execution_count": 20,
     "metadata": {},
     "output_type": "execute_result"
    }
   ],
   "source": [
    "stats.shapiro(errors)"
   ]
  },
  {
   "cell_type": "code",
   "execution_count": 21,
   "metadata": {},
   "outputs": [
    {
     "data": {
      "text/plain": [
       "<matplotlib.axes._subplots.AxesSubplot at 0x10b21d358>"
      ]
     },
     "execution_count": 21,
     "metadata": {},
     "output_type": "execute_result"
    },
    {
     "data": {
      "image/png": "[encoded data removed]",
      "text/plain": [
       "<Figure size 432x288 with 1 Axes>"
      ]
     },
     "metadata": {},
     "output_type": "display_data"
    }
   ],
   "source": [
    "sns.boxplot(errors)"
   ]
  },
  {
   "cell_type": "markdown",
   "metadata": {},
   "source": [
    "* I think that we can more or less accept the normality of the errors, although the shapiro test strongly leeds us to reject the Null\n",
    "* Maybe we have to throw out some outliers or actually do some feature engineering"
   ]
  },
  {
   "cell_type": "markdown",
   "metadata": {},
   "source": [
    "#### Plot a Q-Q plot to \"test\" for homoskedasticity"
   ]
  },
  {
   "cell_type": "code",
   "execution_count": 22,
   "metadata": {},
   "outputs": [
    {
     "data": {
      "image/png": "[encoded data removed]",
      "text/plain": [
       "<Figure size 432x288 with 1 Axes>"
      ]
     },
     "metadata": {},
     "output_type": "display_data"
    }
   ],
   "source": [
    "stats.probplot(errors, dist=\"norm\", plot=plt)\n",
    "plt.show()"
   ]
  },
  {
   "cell_type": "code",
   "execution_count": 23,
   "metadata": {},
   "outputs": [
    {
     "data": {
      "text/plain": [
       "(array([  54.,  217.,  395., 1081., 3199., 4900., 2456.,  461.,  225.,\n",
       "          46.]),\n",
       " array([-426.74558639, -345.27452407, -263.80346174, -182.33239942,\n",
       "        -100.8613371 ,  -19.39027477,   62.08078755,  143.55184987,\n",
       "         225.0229122 ,  306.49397452,  387.96503684]),\n",
       " <a list of 10 Patch objects>)"
      ]
     },
     "execution_count": 23,
     "metadata": {},
     "output_type": "execute_result"
    },
    {
     "data": {
      "image/png": "[encoded data removed]",
      "text/plain": [
       "<Figure size 432x288 with 1 Axes>"
      ]
     },
     "metadata": {},
     "output_type": "display_data"
    }
   ],
   "source": [
    "plt.hist(errors)"
   ]
  },
  {
   "cell_type": "markdown",
   "metadata": {},
   "source": [
    "The errors seem to be quite normal and almost evenly distributed over the whole space except for the fat right tail. What is the cause for these observations?"
   ]
  },
  {
   "cell_type": "markdown",
   "metadata": {},
   "source": [
    "# Inspect the outliers!!!"
   ]
  },
  {
   "cell_type": "code",
   "execution_count": null,
   "metadata": {},
   "outputs": [],
   "source": []
  },
  {
   "cell_type": "code",
   "execution_count": null,
   "metadata": {},
   "outputs": [],
   "source": []
  }
 ],
 "metadata": {
  "kernelspec": {
   "display_name": "Python 3",
   "language": "python",
   "name": "python3"
  },
  "language_info": {
   "codemirror_mode": {
    "name": "ipython",
    "version": 3
   },
   "file_extension": ".py",
   "mimetype": "text/x-python",
   "name": "python",
   "nbconvert_exporter": "python",
   "pygments_lexer": "ipython3",
   "version": "3.6.5"
  }
 },
 "nbformat": 4,
 "nbformat_minor": 2
}
