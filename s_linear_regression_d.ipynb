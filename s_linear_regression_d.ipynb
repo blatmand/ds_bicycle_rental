{
 "cells": [
  {
   "cell_type": "markdown",
   "metadata": {},
   "source": [
    "# Do the feature engineering according to the selection done in the exploratory data analysis and run a linear regression"
   ]
  },
  {
   "cell_type": "code",
   "execution_count": 1,
   "metadata": {},
   "outputs": [],
   "source": [
    "import pandas as pd\n",
    "\n",
    "from sklearn.linear_model import LinearRegression\n",
    "from sklearn.model_selection import train_test_split\n",
    "from sklearn.preprocessing import PolynomialFeatures\n",
    "from sklearn.model_selection import cross_val_score\n",
    "\n",
    "import statsmodels.api as sm\n",
    "from statsmodels import stats as st\n",
    "\n",
    "import seaborn as sns\n",
    "\n",
    "import scipy.stats as stats\n",
    "\n",
    "from matplotlib import pyplot as plt\n",
    "\n",
    "import numpy as np"
   ]
  },
  {
   "cell_type": "code",
   "execution_count": 33,
   "metadata": {},
   "outputs": [
    {
     "data": {
      "text/plain": [
       "3292679"
      ]
     },
     "execution_count": 33,
     "metadata": {},
     "output_type": "execute_result"
    }
   ],
   "source": [
    "df = pd.read_csv('day.csv', index_col=0)\n",
    "df.head()\n",
    "df.casual.describe()"
   ]
  },
  {
   "cell_type": "code",
   "execution_count": 3,
   "metadata": {},
   "outputs": [
    {
     "data": {
      "text/plain": [
       "instant\n",
       "1   2011-01-01\n",
       "2   2011-01-02\n",
       "3   2011-01-03\n",
       "4   2011-01-04\n",
       "5   2011-01-05\n",
       "Name: dteday, dtype: datetime64[ns]"
      ]
     },
     "execution_count": 3,
     "metadata": {},
     "output_type": "execute_result"
    }
   ],
   "source": [
    "df['dteday'] = pd.to_datetime(df['dteday'])\n",
    "df['dteday'].head()"
   ]
  },
  {
   "cell_type": "markdown",
   "metadata": {},
   "source": [
    "#### Feature Engineering Function:"
   ]
  },
  {
   "cell_type": "code",
   "execution_count": 4,
   "metadata": {},
   "outputs": [],
   "source": [
    "#weather = {1: 'nice_weather', 2: 'so_so_weather', 3: 'shit_weather'}\n",
    "#weather_dummies = pd.get_dummies(df['weathersit'])\n",
    "#weather_dummies = weather_dummies.drop(weather_dummies.columns[0], axis=1)\n",
    "#weather_dummies.rename(mapper=weather, axis=1, inplace=True)\n",
    "#x = pd.concat([x, weather_dummies], axis=1)\n",
    "#x = x.drop('weathersit', axis=1)\n",
    "\n",
    "#weather_dummies.head()"
   ]
  },
  {
   "cell_type": "code",
   "execution_count": 5,
   "metadata": {},
   "outputs": [],
   "source": [
    "#df.loc[:, 'atemp2'] = pd.Series(np.array(df['atemp'])**2)\n",
    "#df.atemp2"
   ]
  },
  {
   "cell_type": "code",
   "execution_count": 6,
   "metadata": {},
   "outputs": [],
   "source": [
    "def feature_engineer(x):\n",
    "    x = x[['yr',\n",
    "           'mnth',\n",
    "           'holiday',\n",
    "           'weekday',\n",
    "           'workingday',\n",
    "           'weathersit',\n",
    "           #'temp',\n",
    "           'atemp',\n",
    "           'hum', #is highly insignificant\n",
    "           'windspeed'\n",
    "           ]]\n",
    "    \n",
    "    if 'mnth' in x:\n",
    "        # create dummies for months; Feb is not significantly different from 0 and is therefore excluded\n",
    "        months = {2: 'Feb',3: 'March',4: 'Apr',5: 'May',6: 'Jun',7: 'Jul',8: 'Aug',9: 'Sept',10: 'Oct',11: 'Nov',12: 'Dec'}\n",
    "        mnth_dummies = pd.get_dummies(x['mnth'])\n",
    "        mnth_dummies = mnth_dummies.drop([mnth_dummies.columns[0], mnth_dummies.columns[1], mnth_dummies.columns[5], mnth_dummies.columns[10]], axis=1)\n",
    "        mnth_dummies.rename(mapper=months, axis=1, inplace=True)\n",
    "        x = pd.concat([x, mnth_dummies], axis=1)\n",
    "        x = x.drop('mnth', axis=1)\n",
    "        \n",
    "    if 'weekday' in x:\n",
    "        # create dummies for the weekdays; it turns out that only saturdays yields a statistically significant result\n",
    "        days = {1: 'Mon', 2: 'Tue', 3: 'Wed', 4: 'Thu', 5: 'Fri', 6: 'Sat'}\n",
    "        wday_dummies = pd.get_dummies(x['weekday'])\n",
    "        wday_dummies = wday_dummies.drop(wday_dummies.columns[0], axis=1)\n",
    "        wday_dummies.rename(mapper=days, axis=1, inplace=True)\n",
    "        x = pd.concat([x, pd.DataFrame(wday_dummies['Sat'])], axis=1)\n",
    "        #x = pd.concat([x, wday_dummies], axis=1)\n",
    "        x = x.drop('weekday', axis=1)\n",
    "        \n",
    "    if 'weathersit' in x:\n",
    "        weather = {1: 'nice_weather', 2: 'so_so_weather', 3: 'shit_weather'}\n",
    "        weather_dummies = pd.get_dummies(x['weathersit'])\n",
    "        weather_dummies = weather_dummies.drop(weather_dummies.columns[0], axis=1)\n",
    "        weather_dummies.rename(mapper=weather, axis=1, inplace=True)\n",
    "        x = pd.concat([x, weather_dummies], axis=1)\n",
    "        x = x.drop('weathersit', axis=1)\n",
    "        \n",
    "    #if 'atemp' in x:\n",
    "    #    x.loc[:, 'atemp2'] = x['atemp']**2\n",
    "    #    x = x.drop('atemp', axis=1)\n",
    "        \n",
    "    \n",
    "    return x"
   ]
  },
  {
   "cell_type": "markdown",
   "metadata": {},
   "source": [
    "#### Split the data:"
   ]
  },
  {
   "cell_type": "code",
   "execution_count": 7,
   "metadata": {},
   "outputs": [],
   "source": [
    "# split the data into input and output variables\n",
    "X = df.drop('cnt', axis=1)\n",
    "y = df['cnt']\n",
    "casual = df['casual']\n",
    "registered = df['registered'] \n",
    "\n",
    "# split the data into training and test data for casual\n",
    "Xtrain, Xtest, ctrain, ctest = train_test_split(X, casual, random_state=42)\n",
    "\n",
    "# split the data into training and test data for casual\n",
    "Xtrain, Xtest, rtrain, rtest = train_test_split(X, registered, random_state=42)\n",
    "\n",
    "# split the data into training and test data for casual\n",
    "Xtrain, Xtest, ytrain, ytest = train_test_split(X, y, random_state=42)"
   ]
  },
  {
   "cell_type": "markdown",
   "metadata": {},
   "source": [
    "#### Feature Engineering:"
   ]
  },
  {
   "cell_type": "code",
   "execution_count": 8,
   "metadata": {
    "scrolled": true
   },
   "outputs": [
    {
     "data": {
      "text/html": [
       "<div>\n",
       "<style scoped>\n",
       "    .dataframe tbody tr th:only-of-type {\n",
       "        vertical-align: middle;\n",
       "    }\n",
       "\n",
       "    .dataframe tbody tr th {\n",
       "        vertical-align: top;\n",
       "    }\n",
       "\n",
       "    .dataframe thead th {\n",
       "        text-align: right;\n",
       "    }\n",
       "</style>\n",
       "<table border=\"1\" class=\"dataframe\">\n",
       "  <thead>\n",
       "    <tr style=\"text-align: right;\">\n",
       "      <th></th>\n",
       "      <th>yr</th>\n",
       "      <th>holiday</th>\n",
       "      <th>workingday</th>\n",
       "      <th>atemp</th>\n",
       "      <th>hum</th>\n",
       "      <th>windspeed</th>\n",
       "      <th>March</th>\n",
       "      <th>Apr</th>\n",
       "      <th>May</th>\n",
       "      <th>Jun</th>\n",
       "      <th>Jul</th>\n",
       "      <th>Aug</th>\n",
       "      <th>Sept</th>\n",
       "      <th>Oct</th>\n",
       "      <th>Nov</th>\n",
       "      <th>Dec</th>\n",
       "      <th>Sat</th>\n",
       "      <th>so_so_weather</th>\n",
       "      <th>shit_weather</th>\n",
       "    </tr>\n",
       "    <tr>\n",
       "      <th>instant</th>\n",
       "      <th></th>\n",
       "      <th></th>\n",
       "      <th></th>\n",
       "      <th></th>\n",
       "      <th></th>\n",
       "      <th></th>\n",
       "      <th></th>\n",
       "      <th></th>\n",
       "      <th></th>\n",
       "      <th></th>\n",
       "      <th></th>\n",
       "      <th></th>\n",
       "      <th></th>\n",
       "      <th></th>\n",
       "      <th></th>\n",
       "      <th></th>\n",
       "      <th></th>\n",
       "      <th></th>\n",
       "      <th></th>\n",
       "    </tr>\n",
       "  </thead>\n",
       "  <tbody>\n",
       "    <tr>\n",
       "      <th>689</th>\n",
       "      <td>1</td>\n",
       "      <td>0</td>\n",
       "      <td>1</td>\n",
       "      <td>0.375621</td>\n",
       "      <td>0.623333</td>\n",
       "      <td>0.235067</td>\n",
       "      <td>0</td>\n",
       "      <td>0</td>\n",
       "      <td>0</td>\n",
       "      <td>0</td>\n",
       "      <td>0</td>\n",
       "      <td>0</td>\n",
       "      <td>0</td>\n",
       "      <td>0</td>\n",
       "      <td>1</td>\n",
       "      <td>0</td>\n",
       "      <td>0</td>\n",
       "      <td>1</td>\n",
       "      <td>0</td>\n",
       "    </tr>\n",
       "    <tr>\n",
       "      <th>650</th>\n",
       "      <td>1</td>\n",
       "      <td>0</td>\n",
       "      <td>1</td>\n",
       "      <td>0.431167</td>\n",
       "      <td>0.463333</td>\n",
       "      <td>0.181596</td>\n",
       "      <td>0</td>\n",
       "      <td>0</td>\n",
       "      <td>0</td>\n",
       "      <td>0</td>\n",
       "      <td>0</td>\n",
       "      <td>0</td>\n",
       "      <td>0</td>\n",
       "      <td>1</td>\n",
       "      <td>0</td>\n",
       "      <td>0</td>\n",
       "      <td>0</td>\n",
       "      <td>0</td>\n",
       "      <td>0</td>\n",
       "    </tr>\n",
       "    <tr>\n",
       "      <th>638</th>\n",
       "      <td>1</td>\n",
       "      <td>0</td>\n",
       "      <td>0</td>\n",
       "      <td>0.530296</td>\n",
       "      <td>0.542917</td>\n",
       "      <td>0.227604</td>\n",
       "      <td>0</td>\n",
       "      <td>0</td>\n",
       "      <td>0</td>\n",
       "      <td>0</td>\n",
       "      <td>0</td>\n",
       "      <td>0</td>\n",
       "      <td>1</td>\n",
       "      <td>0</td>\n",
       "      <td>0</td>\n",
       "      <td>0</td>\n",
       "      <td>1</td>\n",
       "      <td>0</td>\n",
       "      <td>0</td>\n",
       "    </tr>\n",
       "    <tr>\n",
       "      <th>526</th>\n",
       "      <td>1</td>\n",
       "      <td>0</td>\n",
       "      <td>0</td>\n",
       "      <td>0.648367</td>\n",
       "      <td>0.437083</td>\n",
       "      <td>0.144287</td>\n",
       "      <td>0</td>\n",
       "      <td>0</td>\n",
       "      <td>0</td>\n",
       "      <td>1</td>\n",
       "      <td>0</td>\n",
       "      <td>0</td>\n",
       "      <td>0</td>\n",
       "      <td>0</td>\n",
       "      <td>0</td>\n",
       "      <td>0</td>\n",
       "      <td>1</td>\n",
       "      <td>0</td>\n",
       "      <td>0</td>\n",
       "    </tr>\n",
       "    <tr>\n",
       "      <th>368</th>\n",
       "      <td>1</td>\n",
       "      <td>0</td>\n",
       "      <td>1</td>\n",
       "      <td>0.126275</td>\n",
       "      <td>0.441250</td>\n",
       "      <td>0.365671</td>\n",
       "      <td>0</td>\n",
       "      <td>0</td>\n",
       "      <td>0</td>\n",
       "      <td>0</td>\n",
       "      <td>0</td>\n",
       "      <td>0</td>\n",
       "      <td>0</td>\n",
       "      <td>0</td>\n",
       "      <td>0</td>\n",
       "      <td>0</td>\n",
       "      <td>0</td>\n",
       "      <td>0</td>\n",
       "      <td>0</td>\n",
       "    </tr>\n",
       "  </tbody>\n",
       "</table>\n",
       "</div>"
      ],
      "text/plain": [
       "         yr  holiday  workingday     atemp       hum  windspeed  March  Apr  \\\n",
       "instant                                                                       \n",
       "689       1        0           1  0.375621  0.623333   0.235067      0    0   \n",
       "650       1        0           1  0.431167  0.463333   0.181596      0    0   \n",
       "638       1        0           0  0.530296  0.542917   0.227604      0    0   \n",
       "526       1        0           0  0.648367  0.437083   0.144287      0    0   \n",
       "368       1        0           1  0.126275  0.441250   0.365671      0    0   \n",
       "\n",
       "         May  Jun  Jul  Aug  Sept  Oct  Nov  Dec  Sat  so_so_weather  \\\n",
       "instant                                                                \n",
       "689        0    0    0    0     0    0    1    0    0              1   \n",
       "650        0    0    0    0     0    1    0    0    0              0   \n",
       "638        0    0    0    0     1    0    0    0    1              0   \n",
       "526        0    1    0    0     0    0    0    0    1              0   \n",
       "368        0    0    0    0     0    0    0    0    0              0   \n",
       "\n",
       "         shit_weather  \n",
       "instant                \n",
       "689                 0  \n",
       "650                 0  \n",
       "638                 0  \n",
       "526                 0  \n",
       "368                 0  "
      ]
     },
     "execution_count": 8,
     "metadata": {},
     "output_type": "execute_result"
    }
   ],
   "source": [
    "Xtrain = feature_engineer(Xtrain)\n",
    "Xtest = feature_engineer(Xtest)\n",
    "Xtrain.head()"
   ]
  },
  {
   "cell_type": "code",
   "execution_count": 9,
   "metadata": {},
   "outputs": [],
   "source": [
    "#corr = Xtrain.corr()\n",
    "#corr"
   ]
  },
  {
   "cell_type": "markdown",
   "metadata": {},
   "source": [
    "#### Fit the model:"
   ]
  },
  {
   "cell_type": "code",
   "execution_count": 10,
   "metadata": {},
   "outputs": [],
   "source": [
    "mc = LinearRegression()\n",
    "mr = LinearRegression()"
   ]
  },
  {
   "cell_type": "code",
   "execution_count": 11,
   "metadata": {},
   "outputs": [
    {
     "data": {
      "text/plain": [
       "(array([  286.89289608,  -250.55500772,  -751.46213591,  1876.73873931,\n",
       "         -553.98254448, -1016.50072192,   439.5366176 ,   500.82808055,\n",
       "          519.01401461,   367.28544834,   150.9058375 ,   233.24436723,\n",
       "          455.7097097 ,   454.76715928,   245.30178016,    73.58377578,\n",
       "          194.94777735,  -137.03628561,  -372.9238122 ]), 613.2339008466873)"
      ]
     },
     "execution_count": 11,
     "metadata": {},
     "output_type": "execute_result"
    }
   ],
   "source": [
    "mc.fit(Xtrain, ctrain)\n",
    "mc.coef_, mc.intercept_"
   ]
  },
  {
   "cell_type": "code",
   "execution_count": 12,
   "metadata": {},
   "outputs": [
    {
     "data": {
      "text/plain": [
       "(array([ 1696.45718969,  -184.24332377,  1133.82846607,  3828.8567974 ,\n",
       "         -955.42483905, -1628.37607853,   429.24474898,   642.10874039,\n",
       "          856.80960352,   775.39206737,   270.89320343,   591.94240329,\n",
       "         1347.88881528,  1481.06464415,  1096.6440214 ,   741.87112439,\n",
       "          281.26948811,  -369.70796918, -1357.16620588]), 562.1103299420847)"
      ]
     },
     "execution_count": 12,
     "metadata": {},
     "output_type": "execute_result"
    }
   ],
   "source": [
    "mr.fit(Xtrain, rtrain)\n",
    "mr.coef_, mr.intercept_"
   ]
  },
  {
   "cell_type": "markdown",
   "metadata": {},
   "source": [
    "#### Evaluate the model:"
   ]
  },
  {
   "cell_type": "code",
   "execution_count": 13,
   "metadata": {},
   "outputs": [
    {
     "data": {
      "text/plain": [
       "0.74"
      ]
     },
     "execution_count": 13,
     "metadata": {},
     "output_type": "execute_result"
    }
   ],
   "source": [
    "# let's have a look at the R2 of the model\n",
    "round(mc.score(Xtrain, ctrain), 2)"
   ]
  },
  {
   "cell_type": "code",
   "execution_count": 14,
   "metadata": {},
   "outputs": [
    {
     "data": {
      "text/plain": [
       "0.7077877131424731"
      ]
     },
     "execution_count": 14,
     "metadata": {},
     "output_type": "execute_result"
    }
   ],
   "source": [
    "cross_val_score(mc, Xtrain, ctrain, cv=5).mean()"
   ]
  },
  {
   "cell_type": "code",
   "execution_count": 15,
   "metadata": {},
   "outputs": [
    {
     "data": {
      "text/plain": [
       "0.67"
      ]
     },
     "execution_count": 15,
     "metadata": {},
     "output_type": "execute_result"
    }
   ],
   "source": [
    "# let's have a lookt at the R2 of the model using the test data\n",
    "round(mc.score(Xtest, ctest), 2)"
   ]
  },
  {
   "cell_type": "code",
   "execution_count": 16,
   "metadata": {},
   "outputs": [
    {
     "data": {
      "text/plain": [
       "0.82"
      ]
     },
     "execution_count": 16,
     "metadata": {},
     "output_type": "execute_result"
    }
   ],
   "source": [
    "round(mr.score(Xtrain, rtrain), 2)"
   ]
  },
  {
   "cell_type": "code",
   "execution_count": 17,
   "metadata": {},
   "outputs": [
    {
     "data": {
      "text/plain": [
       "0.7941658172477997"
      ]
     },
     "execution_count": 17,
     "metadata": {},
     "output_type": "execute_result"
    }
   ],
   "source": [
    "cross_val_score(mc, Xtrain, rtrain, cv=5).mean()"
   ]
  },
  {
   "cell_type": "code",
   "execution_count": 18,
   "metadata": {},
   "outputs": [
    {
     "data": {
      "text/plain": [
       "0.82"
      ]
     },
     "execution_count": 18,
     "metadata": {},
     "output_type": "execute_result"
    }
   ],
   "source": [
    "round(mr.score(Xtest, rtest), 2)"
   ]
  },
  {
   "cell_type": "markdown",
   "metadata": {},
   "source": [
    "#### Use statsmodels to output some statistics on the regression results"
   ]
  },
  {
   "cell_type": "code",
   "execution_count": 19,
   "metadata": {
    "scrolled": true
   },
   "outputs": [
    {
     "name": "stderr",
     "output_type": "stream",
     "text": [
      "/Users/stefanroth/anaconda3/lib/python3.6/site-packages/numpy/core/fromnumeric.py:52: FutureWarning: Method .ptp is deprecated and will be removed in a future version. Use numpy.ptp instead.\n",
      "  return getattr(obj, method)(*args, **kwds)\n"
     ]
    },
    {
     "data": {
      "text/html": [
       "<table class=\"simpletable\">\n",
       "<caption>OLS Regression Results</caption>\n",
       "<tr>\n",
       "  <th>Dep. Variable:</th>         <td>casual</td>      <th>  R-squared:         </th> <td>   0.739</td> \n",
       "</tr>\n",
       "<tr>\n",
       "  <th>Model:</th>                   <td>OLS</td>       <th>  Adj. R-squared:    </th> <td>   0.729</td> \n",
       "</tr>\n",
       "<tr>\n",
       "  <th>Method:</th>             <td>Least Squares</td>  <th>  F-statistic:       </th> <td>   78.58</td> \n",
       "</tr>\n",
       "<tr>\n",
       "  <th>Date:</th>             <td>Fri, 14 Jun 2019</td> <th>  Prob (F-statistic):</th> <td>3.71e-140</td>\n",
       "</tr>\n",
       "<tr>\n",
       "  <th>Time:</th>                 <td>15:03:32</td>     <th>  Log-Likelihood:    </th> <td> -4009.5</td> \n",
       "</tr>\n",
       "<tr>\n",
       "  <th>No. Observations:</th>      <td>   548</td>      <th>  AIC:               </th> <td>   8059.</td> \n",
       "</tr>\n",
       "<tr>\n",
       "  <th>Df Residuals:</th>          <td>   528</td>      <th>  BIC:               </th> <td>   8145.</td> \n",
       "</tr>\n",
       "<tr>\n",
       "  <th>Df Model:</th>              <td>    19</td>      <th>                     </th>     <td> </td>    \n",
       "</tr>\n",
       "<tr>\n",
       "  <th>Covariance Type:</th>      <td>nonrobust</td>    <th>                     </th>     <td> </td>    \n",
       "</tr>\n",
       "</table>\n",
       "<table class=\"simpletable\">\n",
       "<tr>\n",
       "        <td></td>           <th>coef</th>     <th>std err</th>      <th>t</th>      <th>P>|t|</th>  <th>[0.025</th>    <th>0.975]</th>  \n",
       "</tr>\n",
       "<tr>\n",
       "  <th>const</th>         <td>  613.2339</td> <td>  129.353</td> <td>    4.741</td> <td> 0.000</td> <td>  359.125</td> <td>  867.343</td>\n",
       "</tr>\n",
       "<tr>\n",
       "  <th>yr</th>            <td>  286.8929</td> <td>   32.566</td> <td>    8.809</td> <td> 0.000</td> <td>  222.917</td> <td>  350.869</td>\n",
       "</tr>\n",
       "<tr>\n",
       "  <th>holiday</th>       <td> -250.5550</td> <td>  107.327</td> <td>   -2.335</td> <td> 0.020</td> <td> -461.395</td> <td>  -39.715</td>\n",
       "</tr>\n",
       "<tr>\n",
       "  <th>workingday</th>    <td> -751.4621</td> <td>   44.380</td> <td>  -16.933</td> <td> 0.000</td> <td> -838.644</td> <td> -664.280</td>\n",
       "</tr>\n",
       "<tr>\n",
       "  <th>atemp</th>         <td> 1876.7387</td> <td>  241.665</td> <td>    7.766</td> <td> 0.000</td> <td> 1401.995</td> <td> 2351.482</td>\n",
       "</tr>\n",
       "<tr>\n",
       "  <th>hum</th>           <td> -553.9825</td> <td>  159.041</td> <td>   -3.483</td> <td> 0.001</td> <td> -866.413</td> <td> -241.552</td>\n",
       "</tr>\n",
       "<tr>\n",
       "  <th>windspeed</th>     <td>-1016.5007</td> <td>  227.015</td> <td>   -4.478</td> <td> 0.000</td> <td>-1462.465</td> <td> -570.537</td>\n",
       "</tr>\n",
       "<tr>\n",
       "  <th>March</th>         <td>  439.5366</td> <td>   78.170</td> <td>    5.623</td> <td> 0.000</td> <td>  285.974</td> <td>  593.099</td>\n",
       "</tr>\n",
       "<tr>\n",
       "  <th>Apr</th>           <td>  500.8281</td> <td>   82.080</td> <td>    6.102</td> <td> 0.000</td> <td>  339.584</td> <td>  662.072</td>\n",
       "</tr>\n",
       "<tr>\n",
       "  <th>May</th>           <td>  519.0140</td> <td>   93.438</td> <td>    5.555</td> <td> 0.000</td> <td>  335.459</td> <td>  702.569</td>\n",
       "</tr>\n",
       "<tr>\n",
       "  <th>Jun</th>           <td>  367.2854</td> <td>  109.653</td> <td>    3.350</td> <td> 0.001</td> <td>  151.876</td> <td>  582.695</td>\n",
       "</tr>\n",
       "<tr>\n",
       "  <th>Jul</th>           <td>  150.9058</td> <td>  121.948</td> <td>    1.237</td> <td> 0.216</td> <td>  -88.657</td> <td>  390.468</td>\n",
       "</tr>\n",
       "<tr>\n",
       "  <th>Aug</th>           <td>  233.2444</td> <td>  113.864</td> <td>    2.048</td> <td> 0.041</td> <td>    9.562</td> <td>  456.926</td>\n",
       "</tr>\n",
       "<tr>\n",
       "  <th>Sept</th>          <td>  455.7097</td> <td>   98.340</td> <td>    4.634</td> <td> 0.000</td> <td>  262.524</td> <td>  648.895</td>\n",
       "</tr>\n",
       "<tr>\n",
       "  <th>Oct</th>           <td>  454.7672</td> <td>   79.701</td> <td>    5.706</td> <td> 0.000</td> <td>  298.198</td> <td>  611.336</td>\n",
       "</tr>\n",
       "<tr>\n",
       "  <th>Nov</th>           <td>  245.3018</td> <td>   72.677</td> <td>    3.375</td> <td> 0.001</td> <td>  102.531</td> <td>  388.073</td>\n",
       "</tr>\n",
       "<tr>\n",
       "  <th>Dec</th>           <td>   73.5838</td> <td>   70.811</td> <td>    1.039</td> <td> 0.299</td> <td>  -65.523</td> <td>  212.690</td>\n",
       "</tr>\n",
       "<tr>\n",
       "  <th>Sat</th>           <td>  194.9478</td> <td>   56.560</td> <td>    3.447</td> <td> 0.001</td> <td>   83.838</td> <td>  306.058</td>\n",
       "</tr>\n",
       "<tr>\n",
       "  <th>so_so_weather</th> <td> -137.0363</td> <td>   43.022</td> <td>   -3.185</td> <td> 0.002</td> <td> -221.552</td> <td>  -52.521</td>\n",
       "</tr>\n",
       "<tr>\n",
       "  <th>shit_weather</th>  <td> -372.9238</td> <td>  107.398</td> <td>   -3.472</td> <td> 0.001</td> <td> -583.904</td> <td> -161.943</td>\n",
       "</tr>\n",
       "</table>\n",
       "<table class=\"simpletable\">\n",
       "<tr>\n",
       "  <th>Omnibus:</th>       <td>77.287</td> <th>  Durbin-Watson:     </th> <td>   2.042</td>\n",
       "</tr>\n",
       "<tr>\n",
       "  <th>Prob(Omnibus):</th> <td> 0.000</td> <th>  Jarque-Bera (JB):  </th> <td> 186.397</td>\n",
       "</tr>\n",
       "<tr>\n",
       "  <th>Skew:</th>          <td> 0.739</td> <th>  Prob(JB):          </th> <td>3.34e-41</td>\n",
       "</tr>\n",
       "<tr>\n",
       "  <th>Kurtosis:</th>      <td> 5.446</td> <th>  Cond. No.          </th> <td>    34.1</td>\n",
       "</tr>\n",
       "</table><br/><br/>Warnings:<br/>[1] Standard Errors assume that the covariance matrix of the errors is correctly specified."
      ],
      "text/plain": [
       "<class 'statsmodels.iolib.summary.Summary'>\n",
       "\"\"\"\n",
       "                            OLS Regression Results                            \n",
       "==============================================================================\n",
       "Dep. Variable:                 casual   R-squared:                       0.739\n",
       "Model:                            OLS   Adj. R-squared:                  0.729\n",
       "Method:                 Least Squares   F-statistic:                     78.58\n",
       "Date:                Fri, 14 Jun 2019   Prob (F-statistic):          3.71e-140\n",
       "Time:                        15:03:32   Log-Likelihood:                -4009.5\n",
       "No. Observations:                 548   AIC:                             8059.\n",
       "Df Residuals:                     528   BIC:                             8145.\n",
       "Df Model:                          19                                         \n",
       "Covariance Type:            nonrobust                                         \n",
       "=================================================================================\n",
       "                    coef    std err          t      P>|t|      [0.025      0.975]\n",
       "---------------------------------------------------------------------------------\n",
       "const           613.2339    129.353      4.741      0.000     359.125     867.343\n",
       "yr              286.8929     32.566      8.809      0.000     222.917     350.869\n",
       "holiday        -250.5550    107.327     -2.335      0.020    -461.395     -39.715\n",
       "workingday     -751.4621     44.380    -16.933      0.000    -838.644    -664.280\n",
       "atemp          1876.7387    241.665      7.766      0.000    1401.995    2351.482\n",
       "hum            -553.9825    159.041     -3.483      0.001    -866.413    -241.552\n",
       "windspeed     -1016.5007    227.015     -4.478      0.000   -1462.465    -570.537\n",
       "March           439.5366     78.170      5.623      0.000     285.974     593.099\n",
       "Apr             500.8281     82.080      6.102      0.000     339.584     662.072\n",
       "May             519.0140     93.438      5.555      0.000     335.459     702.569\n",
       "Jun             367.2854    109.653      3.350      0.001     151.876     582.695\n",
       "Jul             150.9058    121.948      1.237      0.216     -88.657     390.468\n",
       "Aug             233.2444    113.864      2.048      0.041       9.562     456.926\n",
       "Sept            455.7097     98.340      4.634      0.000     262.524     648.895\n",
       "Oct             454.7672     79.701      5.706      0.000     298.198     611.336\n",
       "Nov             245.3018     72.677      3.375      0.001     102.531     388.073\n",
       "Dec              73.5838     70.811      1.039      0.299     -65.523     212.690\n",
       "Sat             194.9478     56.560      3.447      0.001      83.838     306.058\n",
       "so_so_weather  -137.0363     43.022     -3.185      0.002    -221.552     -52.521\n",
       "shit_weather   -372.9238    107.398     -3.472      0.001    -583.904    -161.943\n",
       "==============================================================================\n",
       "Omnibus:                       77.287   Durbin-Watson:                   2.042\n",
       "Prob(Omnibus):                  0.000   Jarque-Bera (JB):              186.397\n",
       "Skew:                           0.739   Prob(JB):                     3.34e-41\n",
       "Kurtosis:                       5.446   Cond. No.                         34.1\n",
       "==============================================================================\n",
       "\n",
       "Warnings:\n",
       "[1] Standard Errors assume that the covariance matrix of the errors is correctly specified.\n",
       "\"\"\""
      ]
     },
     "execution_count": 19,
     "metadata": {},
     "output_type": "execute_result"
    }
   ],
   "source": [
    "# Fit and summarize OLS model\n",
    "modc = sm.OLS(ctrain, sm.add_constant(Xtrain))\n",
    "\n",
    "resc = modc.fit()\n",
    "\n",
    "resc.summary()"
   ]
  },
  {
   "cell_type": "code",
   "execution_count": 20,
   "metadata": {},
   "outputs": [
    {
     "name": "stderr",
     "output_type": "stream",
     "text": [
      "/Users/stefanroth/anaconda3/lib/python3.6/site-packages/numpy/core/fromnumeric.py:52: FutureWarning: Method .ptp is deprecated and will be removed in a future version. Use numpy.ptp instead.\n",
      "  return getattr(obj, method)(*args, **kwds)\n"
     ]
    },
    {
     "data": {
      "text/html": [
       "<table class=\"simpletable\">\n",
       "<caption>OLS Regression Results</caption>\n",
       "<tr>\n",
       "  <th>Dep. Variable:</th>       <td>registered</td>    <th>  R-squared:         </th> <td>   0.822</td> \n",
       "</tr>\n",
       "<tr>\n",
       "  <th>Model:</th>                   <td>OLS</td>       <th>  Adj. R-squared:    </th> <td>   0.815</td> \n",
       "</tr>\n",
       "<tr>\n",
       "  <th>Method:</th>             <td>Least Squares</td>  <th>  F-statistic:       </th> <td>   128.1</td> \n",
       "</tr>\n",
       "<tr>\n",
       "  <th>Date:</th>             <td>Fri, 14 Jun 2019</td> <th>  Prob (F-statistic):</th> <td>1.26e-183</td>\n",
       "</tr>\n",
       "<tr>\n",
       "  <th>Time:</th>                 <td>15:03:32</td>     <th>  Log-Likelihood:    </th> <td> -4325.0</td> \n",
       "</tr>\n",
       "<tr>\n",
       "  <th>No. Observations:</th>      <td>   548</td>      <th>  AIC:               </th> <td>   8690.</td> \n",
       "</tr>\n",
       "<tr>\n",
       "  <th>Df Residuals:</th>          <td>   528</td>      <th>  BIC:               </th> <td>   8776.</td> \n",
       "</tr>\n",
       "<tr>\n",
       "  <th>Df Model:</th>              <td>    19</td>      <th>                     </th>     <td> </td>    \n",
       "</tr>\n",
       "<tr>\n",
       "  <th>Covariance Type:</th>      <td>nonrobust</td>    <th>                     </th>     <td> </td>    \n",
       "</tr>\n",
       "</table>\n",
       "<table class=\"simpletable\">\n",
       "<tr>\n",
       "        <td></td>           <th>coef</th>     <th>std err</th>      <th>t</th>      <th>P>|t|</th>  <th>[0.025</th>    <th>0.975]</th>  \n",
       "</tr>\n",
       "<tr>\n",
       "  <th>const</th>         <td>  562.1103</td> <td>  230.036</td> <td>    2.444</td> <td> 0.015</td> <td>  110.212</td> <td> 1014.009</td>\n",
       "</tr>\n",
       "<tr>\n",
       "  <th>yr</th>            <td> 1696.4572</td> <td>   57.915</td> <td>   29.292</td> <td> 0.000</td> <td> 1582.685</td> <td> 1810.229</td>\n",
       "</tr>\n",
       "<tr>\n",
       "  <th>holiday</th>       <td> -184.2433</td> <td>  190.866</td> <td>   -0.965</td> <td> 0.335</td> <td> -559.193</td> <td>  190.707</td>\n",
       "</tr>\n",
       "<tr>\n",
       "  <th>workingday</th>    <td> 1133.8285</td> <td>   78.923</td> <td>   14.366</td> <td> 0.000</td> <td>  978.787</td> <td> 1288.870</td>\n",
       "</tr>\n",
       "<tr>\n",
       "  <th>atemp</th>         <td> 3828.8568</td> <td>  429.769</td> <td>    8.909</td> <td> 0.000</td> <td> 2984.590</td> <td> 4673.124</td>\n",
       "</tr>\n",
       "<tr>\n",
       "  <th>hum</th>           <td> -955.4248</td> <td>  282.833</td> <td>   -3.378</td> <td> 0.001</td> <td>-1511.040</td> <td> -399.809</td>\n",
       "</tr>\n",
       "<tr>\n",
       "  <th>windspeed</th>     <td>-1628.3761</td> <td>  403.716</td> <td>   -4.033</td> <td> 0.000</td> <td>-2421.463</td> <td> -835.290</td>\n",
       "</tr>\n",
       "<tr>\n",
       "  <th>March</th>         <td>  429.2447</td> <td>  139.015</td> <td>    3.088</td> <td> 0.002</td> <td>  156.155</td> <td>  702.335</td>\n",
       "</tr>\n",
       "<tr>\n",
       "  <th>Apr</th>           <td>  642.1087</td> <td>  145.969</td> <td>    4.399</td> <td> 0.000</td> <td>  355.358</td> <td>  928.859</td>\n",
       "</tr>\n",
       "<tr>\n",
       "  <th>May</th>           <td>  856.8096</td> <td>  166.166</td> <td>    5.156</td> <td> 0.000</td> <td>  530.381</td> <td> 1183.238</td>\n",
       "</tr>\n",
       "<tr>\n",
       "  <th>Jun</th>           <td>  775.3921</td> <td>  195.003</td> <td>    3.976</td> <td> 0.000</td> <td>  392.316</td> <td> 1158.468</td>\n",
       "</tr>\n",
       "<tr>\n",
       "  <th>Jul</th>           <td>  270.8932</td> <td>  216.868</td> <td>    1.249</td> <td> 0.212</td> <td> -155.136</td> <td>  696.923</td>\n",
       "</tr>\n",
       "<tr>\n",
       "  <th>Aug</th>           <td>  591.9424</td> <td>  202.492</td> <td>    2.923</td> <td> 0.004</td> <td>  194.154</td> <td>  989.731</td>\n",
       "</tr>\n",
       "<tr>\n",
       "  <th>Sept</th>          <td> 1347.8888</td> <td>  174.884</td> <td>    7.707</td> <td> 0.000</td> <td> 1004.334</td> <td> 1691.443</td>\n",
       "</tr>\n",
       "<tr>\n",
       "  <th>Oct</th>           <td> 1481.0646</td> <td>  141.737</td> <td>   10.449</td> <td> 0.000</td> <td> 1202.628</td> <td> 1759.502</td>\n",
       "</tr>\n",
       "<tr>\n",
       "  <th>Nov</th>           <td> 1096.6440</td> <td>  129.246</td> <td>    8.485</td> <td> 0.000</td> <td>  842.745</td> <td> 1350.543</td>\n",
       "</tr>\n",
       "<tr>\n",
       "  <th>Dec</th>           <td>  741.8711</td> <td>  125.928</td> <td>    5.891</td> <td> 0.000</td> <td>  494.489</td> <td>  989.253</td>\n",
       "</tr>\n",
       "<tr>\n",
       "  <th>Sat</th>           <td>  281.2695</td> <td>  100.584</td> <td>    2.796</td> <td> 0.005</td> <td>   83.675</td> <td>  478.864</td>\n",
       "</tr>\n",
       "<tr>\n",
       "  <th>so_so_weather</th> <td> -369.7080</td> <td>   76.509</td> <td>   -4.832</td> <td> 0.000</td> <td> -520.008</td> <td> -219.408</td>\n",
       "</tr>\n",
       "<tr>\n",
       "  <th>shit_weather</th>  <td>-1357.1662</td> <td>  190.993</td> <td>   -7.106</td> <td> 0.000</td> <td>-1732.367</td> <td> -981.966</td>\n",
       "</tr>\n",
       "</table>\n",
       "<table class=\"simpletable\">\n",
       "<tr>\n",
       "  <th>Omnibus:</th>       <td>142.229</td> <th>  Durbin-Watson:     </th> <td>   2.044</td>\n",
       "</tr>\n",
       "<tr>\n",
       "  <th>Prob(Omnibus):</th> <td> 0.000</td>  <th>  Jarque-Bera (JB):  </th> <td> 409.729</td>\n",
       "</tr>\n",
       "<tr>\n",
       "  <th>Skew:</th>          <td>-1.248</td>  <th>  Prob(JB):          </th> <td>1.07e-89</td>\n",
       "</tr>\n",
       "<tr>\n",
       "  <th>Kurtosis:</th>      <td> 6.422</td>  <th>  Cond. No.          </th> <td>    34.1</td>\n",
       "</tr>\n",
       "</table><br/><br/>Warnings:<br/>[1] Standard Errors assume that the covariance matrix of the errors is correctly specified."
      ],
      "text/plain": [
       "<class 'statsmodels.iolib.summary.Summary'>\n",
       "\"\"\"\n",
       "                            OLS Regression Results                            \n",
       "==============================================================================\n",
       "Dep. Variable:             registered   R-squared:                       0.822\n",
       "Model:                            OLS   Adj. R-squared:                  0.815\n",
       "Method:                 Least Squares   F-statistic:                     128.1\n",
       "Date:                Fri, 14 Jun 2019   Prob (F-statistic):          1.26e-183\n",
       "Time:                        15:03:32   Log-Likelihood:                -4325.0\n",
       "No. Observations:                 548   AIC:                             8690.\n",
       "Df Residuals:                     528   BIC:                             8776.\n",
       "Df Model:                          19                                         \n",
       "Covariance Type:            nonrobust                                         \n",
       "=================================================================================\n",
       "                    coef    std err          t      P>|t|      [0.025      0.975]\n",
       "---------------------------------------------------------------------------------\n",
       "const           562.1103    230.036      2.444      0.015     110.212    1014.009\n",
       "yr             1696.4572     57.915     29.292      0.000    1582.685    1810.229\n",
       "holiday        -184.2433    190.866     -0.965      0.335    -559.193     190.707\n",
       "workingday     1133.8285     78.923     14.366      0.000     978.787    1288.870\n",
       "atemp          3828.8568    429.769      8.909      0.000    2984.590    4673.124\n",
       "hum            -955.4248    282.833     -3.378      0.001   -1511.040    -399.809\n",
       "windspeed     -1628.3761    403.716     -4.033      0.000   -2421.463    -835.290\n",
       "March           429.2447    139.015      3.088      0.002     156.155     702.335\n",
       "Apr             642.1087    145.969      4.399      0.000     355.358     928.859\n",
       "May             856.8096    166.166      5.156      0.000     530.381    1183.238\n",
       "Jun             775.3921    195.003      3.976      0.000     392.316    1158.468\n",
       "Jul             270.8932    216.868      1.249      0.212    -155.136     696.923\n",
       "Aug             591.9424    202.492      2.923      0.004     194.154     989.731\n",
       "Sept           1347.8888    174.884      7.707      0.000    1004.334    1691.443\n",
       "Oct            1481.0646    141.737     10.449      0.000    1202.628    1759.502\n",
       "Nov            1096.6440    129.246      8.485      0.000     842.745    1350.543\n",
       "Dec             741.8711    125.928      5.891      0.000     494.489     989.253\n",
       "Sat             281.2695    100.584      2.796      0.005      83.675     478.864\n",
       "so_so_weather  -369.7080     76.509     -4.832      0.000    -520.008    -219.408\n",
       "shit_weather  -1357.1662    190.993     -7.106      0.000   -1732.367    -981.966\n",
       "==============================================================================\n",
       "Omnibus:                      142.229   Durbin-Watson:                   2.044\n",
       "Prob(Omnibus):                  0.000   Jarque-Bera (JB):              409.729\n",
       "Skew:                          -1.248   Prob(JB):                     1.07e-89\n",
       "Kurtosis:                       6.422   Cond. No.                         34.1\n",
       "==============================================================================\n",
       "\n",
       "Warnings:\n",
       "[1] Standard Errors assume that the covariance matrix of the errors is correctly specified.\n",
       "\"\"\""
      ]
     },
     "execution_count": 20,
     "metadata": {},
     "output_type": "execute_result"
    }
   ],
   "source": [
    "# Fit and summarize OLS model\n",
    "modr = sm.OLS(rtrain, sm.add_constant(Xtrain))\n",
    "\n",
    "resc = modr.fit()\n",
    "\n",
    "resc.summary()"
   ]
  },
  {
   "cell_type": "markdown",
   "metadata": {},
   "source": [
    "#### Check that the assumptions of the model hold:"
   ]
  },
  {
   "cell_type": "code",
   "execution_count": 32,
   "metadata": {},
   "outputs": [
    {
     "data": {
      "text/plain": [
       "1.4188117348e-10"
      ]
     },
     "execution_count": 32,
     "metadata": {},
     "output_type": "execute_result"
    }
   ],
   "source": [
    "errors = mc.predict(Xtrain) + mr.predict(Xtrain) - ytrain\n",
    "round(errors.sum(), 20)"
   ]
  },
  {
   "cell_type": "markdown",
   "metadata": {},
   "source": [
    "* the sum of errors is roughly zero; the assumption of zero error in expectation holds"
   ]
  },
  {
   "cell_type": "code",
   "execution_count": 22,
   "metadata": {},
   "outputs": [
    {
     "data": {
      "text/plain": [
       "(0.9555543065071106, 8.591243168265539e-12)"
      ]
     },
     "execution_count": 22,
     "metadata": {},
     "output_type": "execute_result"
    }
   ],
   "source": [
    "stats.shapiro(errors)"
   ]
  },
  {
   "cell_type": "code",
   "execution_count": 23,
   "metadata": {},
   "outputs": [
    {
     "data": {
      "text/plain": [
       "<matplotlib.axes._subplots.AxesSubplot at 0x10985a710>"
      ]
     },
     "execution_count": 23,
     "metadata": {},
     "output_type": "execute_result"
    },
    {
     "data": {
      "image/png": "[encoded data removed]",
      "text/plain": [
       "<Figure size 432x288 with 1 Axes>"
      ]
     },
     "metadata": {},
     "output_type": "display_data"
    }
   ],
   "source": [
    "sns.boxplot(errors)"
   ]
  },
  {
   "cell_type": "markdown",
   "metadata": {},
   "source": [
    "* I think that we can more or less accept the normality of the errors, although the shapiro test strongly leeds us to reject the Null\n",
    "* Maybe we have to throw out some outliers or actually do some feature engineering"
   ]
  },
  {
   "cell_type": "markdown",
   "metadata": {},
   "source": [
    "#### Plot a Q-Q plot to \"test\" for homoskedasticity"
   ]
  },
  {
   "cell_type": "code",
   "execution_count": 24,
   "metadata": {},
   "outputs": [
    {
     "data": {
      "image/png": "[encoded data removed]",
      "text/plain": [
       "<Figure size 432x288 with 1 Axes>"
      ]
     },
     "metadata": {},
     "output_type": "display_data"
    }
   ],
   "source": [
    "stats.probplot(errors, dist=\"norm\", plot=plt)\n",
    "plt.show()"
   ]
  },
  {
   "cell_type": "code",
   "execution_count": 25,
   "metadata": {},
   "outputs": [
    {
     "data": {
      "text/plain": [
       "(array([  3.,   6.,  60., 178., 190.,  75.,  18.,  11.,   6.,   1.]),\n",
       " array([-2769.178125  , -2108.95699566, -1448.73586632,  -788.51473699,\n",
       "         -128.29360765,   531.92752169,  1192.14865103,  1852.36978036,\n",
       "         2512.5909097 ,  3172.81203904,  3833.03316838]),\n",
       " <a list of 10 Patch objects>)"
      ]
     },
     "execution_count": 25,
     "metadata": {},
     "output_type": "execute_result"
    },
    {
     "data": {
      "image/png": "[encoded data removed]",
      "text/plain": [
       "<Figure size 432x288 with 1 Axes>"
      ]
     },
     "metadata": {},
     "output_type": "display_data"
    }
   ],
   "source": [
    "plt.hist(errors)"
   ]
  },
  {
   "cell_type": "markdown",
   "metadata": {},
   "source": [
    "The errors seem to be quite normal and almost evenly distributed over the whole space except for the fat right tail. What is the cause for these observations?"
   ]
  },
  {
   "cell_type": "markdown",
   "metadata": {},
   "source": [
    "# Inspect the outliers!!!"
   ]
  },
  {
   "cell_type": "code",
   "execution_count": 26,
   "metadata": {},
   "outputs": [
    {
     "data": {
      "text/plain": [
       "Int64Index([689, 650, 638, 690,  19, 532,  30, 232, 488, 713,\n",
       "            ...\n",
       "            344, 309, 662, 664, 100, 459, 122,  21, 701, 107],\n",
       "           dtype='int64', name='instant', length=263)"
      ]
     },
     "execution_count": 26,
     "metadata": {},
     "output_type": "execute_result"
    }
   ],
   "source": [
    "inflc = resc.get_influence()\n",
    "infl = inflc.summary_frame()\n",
    "infl[np.array(infl.iloc[:, :] > 0.2)].index.unique()\n",
    "#print(np.array(infl[infl.index == 689])[-1])\n",
    "#infl.iloc[:, :].sum()"
   ]
  },
  {
   "cell_type": "code",
   "execution_count": 27,
   "metadata": {},
   "outputs": [
    {
     "data": {
      "text/plain": [
       "<StemContainer object of 3 artists>"
      ]
     },
     "execution_count": 27,
     "metadata": {},
     "output_type": "execute_result"
    },
    {
     "data": {
      "image/png": "[encoded data removed]",
      "text/plain": [
       "<Figure size 432x288 with 1 Axes>"
      ]
     },
     "metadata": {},
     "output_type": "display_data"
    }
   ],
   "source": [
    "#c is the distance and p is p-value\n",
    "(c, p) = inflc.cooks_distance\n",
    "plt.stem(np.arange(len(c)), c, markerfmt=\",\")"
   ]
  },
  {
   "cell_type": "code",
   "execution_count": 28,
   "metadata": {},
   "outputs": [
    {
     "data": {
      "text/html": [
       "<div>\n",
       "<style scoped>\n",
       "    .dataframe tbody tr th:only-of-type {\n",
       "        vertical-align: middle;\n",
       "    }\n",
       "\n",
       "    .dataframe tbody tr th {\n",
       "        vertical-align: top;\n",
       "    }\n",
       "\n",
       "    .dataframe thead th {\n",
       "        text-align: right;\n",
       "    }\n",
       "</style>\n",
       "<table border=\"1\" class=\"dataframe\">\n",
       "  <thead>\n",
       "    <tr style=\"text-align: right;\">\n",
       "      <th></th>\n",
       "      <th>dteday</th>\n",
       "      <th>season</th>\n",
       "      <th>yr</th>\n",
       "      <th>mnth</th>\n",
       "      <th>holiday</th>\n",
       "      <th>weekday</th>\n",
       "      <th>workingday</th>\n",
       "      <th>weathersit</th>\n",
       "      <th>temp</th>\n",
       "      <th>atemp</th>\n",
       "      <th>hum</th>\n",
       "      <th>windspeed</th>\n",
       "      <th>casual</th>\n",
       "      <th>registered</th>\n",
       "      <th>cnt</th>\n",
       "    </tr>\n",
       "    <tr>\n",
       "      <th>instant</th>\n",
       "      <th></th>\n",
       "      <th></th>\n",
       "      <th></th>\n",
       "      <th></th>\n",
       "      <th></th>\n",
       "      <th></th>\n",
       "      <th></th>\n",
       "      <th></th>\n",
       "      <th></th>\n",
       "      <th></th>\n",
       "      <th></th>\n",
       "      <th></th>\n",
       "      <th></th>\n",
       "      <th></th>\n",
       "      <th></th>\n",
       "    </tr>\n",
       "  </thead>\n",
       "  <tbody>\n",
       "    <tr>\n",
       "      <th>472</th>\n",
       "      <td>2012-04-16</td>\n",
       "      <td>2</td>\n",
       "      <td>1</td>\n",
       "      <td>4</td>\n",
       "      <td>1</td>\n",
       "      <td>1</td>\n",
       "      <td>0</td>\n",
       "      <td>1</td>\n",
       "      <td>0.664167</td>\n",
       "      <td>0.614925</td>\n",
       "      <td>0.561667</td>\n",
       "      <td>0.284829</td>\n",
       "      <td>1198</td>\n",
       "      <td>5172</td>\n",
       "      <td>6370</td>\n",
       "    </tr>\n",
       "  </tbody>\n",
       "</table>\n",
       "</div>"
      ],
      "text/plain": [
       "            dteday  season  yr  mnth  holiday  weekday  workingday  \\\n",
       "instant                                                              \n",
       "472     2012-04-16       2   1     4        1        1           0   \n",
       "\n",
       "         weathersit      temp     atemp       hum  windspeed  casual  \\\n",
       "instant                                                                \n",
       "472               1  0.664167  0.614925  0.561667   0.284829    1198   \n",
       "\n",
       "         registered   cnt  \n",
       "instant                    \n",
       "472            5172  6370  "
      ]
     },
     "execution_count": 28,
     "metadata": {},
     "output_type": "execute_result"
    }
   ],
   "source": [
    "# on the 29.09.2012 there was a college football and a baseball match which created a huge outlier (2*mean())\n",
    "# this observation is accountable for about 11.5% of the coefficient for saturdays\n",
    "df[df.index == 472]\n",
    "#df.cnt.sort_values()"
   ]
  },
  {
   "cell_type": "code",
   "execution_count": 29,
   "metadata": {},
   "outputs": [
    {
     "data": {
      "text/html": [
       "<div>\n",
       "<style scoped>\n",
       "    .dataframe tbody tr th:only-of-type {\n",
       "        vertical-align: middle;\n",
       "    }\n",
       "\n",
       "    .dataframe tbody tr th {\n",
       "        vertical-align: top;\n",
       "    }\n",
       "\n",
       "    .dataframe thead th {\n",
       "        text-align: right;\n",
       "    }\n",
       "</style>\n",
       "<table border=\"1\" class=\"dataframe\">\n",
       "  <thead>\n",
       "    <tr style=\"text-align: right;\">\n",
       "      <th></th>\n",
       "      <th>dteday</th>\n",
       "      <th>season</th>\n",
       "      <th>yr</th>\n",
       "      <th>mnth</th>\n",
       "      <th>holiday</th>\n",
       "      <th>weekday</th>\n",
       "      <th>workingday</th>\n",
       "      <th>weathersit</th>\n",
       "      <th>temp</th>\n",
       "      <th>atemp</th>\n",
       "      <th>hum</th>\n",
       "      <th>windspeed</th>\n",
       "      <th>casual</th>\n",
       "      <th>registered</th>\n",
       "      <th>cnt</th>\n",
       "    </tr>\n",
       "    <tr>\n",
       "      <th>instant</th>\n",
       "      <th></th>\n",
       "      <th></th>\n",
       "      <th></th>\n",
       "      <th></th>\n",
       "      <th></th>\n",
       "      <th></th>\n",
       "      <th></th>\n",
       "      <th></th>\n",
       "      <th></th>\n",
       "      <th></th>\n",
       "      <th></th>\n",
       "      <th></th>\n",
       "      <th></th>\n",
       "      <th></th>\n",
       "      <th></th>\n",
       "    </tr>\n",
       "  </thead>\n",
       "  <tbody>\n",
       "    <tr>\n",
       "      <th>204</th>\n",
       "      <td>2011-07-23</td>\n",
       "      <td>3</td>\n",
       "      <td>0</td>\n",
       "      <td>7</td>\n",
       "      <td>0</td>\n",
       "      <td>6</td>\n",
       "      <td>0</td>\n",
       "      <td>1</td>\n",
       "      <td>0.849167</td>\n",
       "      <td>0.804287</td>\n",
       "      <td>0.5</td>\n",
       "      <td>0.131221</td>\n",
       "      <td>987</td>\n",
       "      <td>2298</td>\n",
       "      <td>3285</td>\n",
       "    </tr>\n",
       "  </tbody>\n",
       "</table>\n",
       "</div>"
      ],
      "text/plain": [
       "            dteday  season  yr  mnth  holiday  weekday  workingday  \\\n",
       "instant                                                              \n",
       "204     2011-07-23       3   0     7        0        6           0   \n",
       "\n",
       "         weathersit      temp     atemp  hum  windspeed  casual  registered  \\\n",
       "instant                                                                       \n",
       "204               1  0.849167  0.804287  0.5   0.131221     987        2298   \n",
       "\n",
       "          cnt  \n",
       "instant        \n",
       "204      3285  "
      ]
     },
     "execution_count": 29,
     "metadata": {},
     "output_type": "execute_result"
    }
   ],
   "source": [
    "df[df.index == 204]"
   ]
  },
  {
   "cell_type": "code",
   "execution_count": 30,
   "metadata": {},
   "outputs": [
    {
     "ename": "SyntaxError",
     "evalue": "invalid syntax (<ipython-input-30-c360b20160cb>, line 1)",
     "output_type": "error",
     "traceback": [
      "\u001b[0;36m  File \u001b[0;32m\"<ipython-input-30-c360b20160cb>\"\u001b[0;36m, line \u001b[0;32m1\u001b[0m\n\u001b[0;31m    151, 203, 407]\u001b[0m\n\u001b[0m                 ^\u001b[0m\n\u001b[0;31mSyntaxError\u001b[0m\u001b[0;31m:\u001b[0m invalid syntax\n"
     ]
    }
   ],
   "source": [
    "#151, 203, 407]"
   ]
  }
 ],
 "metadata": {
  "kernelspec": {
   "display_name": "Python 3",
   "language": "python",
   "name": "python3"
  },
  "language_info": {
   "codemirror_mode": {
    "name": "ipython",
    "version": 3
   },
   "file_extension": ".py",
   "mimetype": "text/x-python",
   "name": "python",
   "nbconvert_exporter": "python",
   "pygments_lexer": "ipython3",
   "version": "3.6.5"
  }
 },
 "nbformat": 4,
 "nbformat_minor": 2
}
